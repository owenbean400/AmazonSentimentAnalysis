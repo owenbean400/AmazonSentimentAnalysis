{
  "nbformat": 4,
  "nbformat_minor": 0,
  "metadata": {
    "colab": {
      "provenance": [],
      "authorship_tag": "ABX9TyMxepqRETFBhtLE3phMUnio",
      "include_colab_link": true
    },
    "kernelspec": {
      "name": "python3",
      "display_name": "Python 3"
    },
    "language_info": {
      "name": "python"
    }
  },
  "cells": [
    {
      "cell_type": "markdown",
      "metadata": {
        "id": "view-in-github",
        "colab_type": "text"
      },
      "source": [
        "<a href=\"https://colab.research.google.com/github/owenbean400/AmazonSentimentAnalysis/blob/master/Anne_Turmel_Owen_Bean_Amazon_Sentiment.ipynb\" target=\"_parent\"><img src=\"https://colab.research.google.com/assets/colab-badge.svg\" alt=\"Open In Colab\"/></a>"
      ]
    },
    {
      "cell_type": "markdown",
      "source": [
        "#Anne Turmel and Owen Bean NLP Final Project Spring 2023"
      ],
      "metadata": {
        "id": "p2xebEebALI_"
      }
    },
    {
      "cell_type": "markdown",
      "source": [
        "Placeholder for project summary; write when writing abstract for report? "
      ],
      "metadata": {
        "id": "rQdvCiC7wD5U"
      }
    },
    {
      "cell_type": "code",
      "source": [
        "!pip install transformers"
      ],
      "metadata": {
        "colab": {
          "base_uri": "https://localhost:8080/"
        },
        "id": "vwrI6X6hFNH6",
        "outputId": "6ae4849b-60e1-4e9e-ab3b-8d725a81e564"
      },
      "execution_count": 35,
      "outputs": [
        {
          "output_type": "stream",
          "name": "stdout",
          "text": [
            "Looking in indexes: https://pypi.org/simple, https://us-python.pkg.dev/colab-wheels/public/simple/\n",
            "Requirement already satisfied: transformers in /usr/local/lib/python3.10/dist-packages (4.28.1)\n",
            "Requirement already satisfied: filelock in /usr/local/lib/python3.10/dist-packages (from transformers) (3.12.0)\n",
            "Requirement already satisfied: huggingface-hub<1.0,>=0.11.0 in /usr/local/lib/python3.10/dist-packages (from transformers) (0.14.1)\n",
            "Requirement already satisfied: numpy>=1.17 in /usr/local/lib/python3.10/dist-packages (from transformers) (1.22.4)\n",
            "Requirement already satisfied: packaging>=20.0 in /usr/local/lib/python3.10/dist-packages (from transformers) (23.1)\n",
            "Requirement already satisfied: pyyaml>=5.1 in /usr/local/lib/python3.10/dist-packages (from transformers) (6.0)\n",
            "Requirement already satisfied: regex!=2019.12.17 in /usr/local/lib/python3.10/dist-packages (from transformers) (2022.10.31)\n",
            "Requirement already satisfied: requests in /usr/local/lib/python3.10/dist-packages (from transformers) (2.27.1)\n",
            "Requirement already satisfied: tokenizers!=0.11.3,<0.14,>=0.11.1 in /usr/local/lib/python3.10/dist-packages (from transformers) (0.13.3)\n",
            "Requirement already satisfied: tqdm>=4.27 in /usr/local/lib/python3.10/dist-packages (from transformers) (4.65.0)\n",
            "Requirement already satisfied: fsspec in /usr/local/lib/python3.10/dist-packages (from huggingface-hub<1.0,>=0.11.0->transformers) (2023.4.0)\n",
            "Requirement already satisfied: typing-extensions>=3.7.4.3 in /usr/local/lib/python3.10/dist-packages (from huggingface-hub<1.0,>=0.11.0->transformers) (4.5.0)\n",
            "Requirement already satisfied: urllib3<1.27,>=1.21.1 in /usr/local/lib/python3.10/dist-packages (from requests->transformers) (1.26.15)\n",
            "Requirement already satisfied: certifi>=2017.4.17 in /usr/local/lib/python3.10/dist-packages (from requests->transformers) (2022.12.7)\n",
            "Requirement already satisfied: charset-normalizer~=2.0.0 in /usr/local/lib/python3.10/dist-packages (from requests->transformers) (2.0.12)\n",
            "Requirement already satisfied: idna<4,>=2.5 in /usr/local/lib/python3.10/dist-packages (from requests->transformers) (3.4)\n"
          ]
        }
      ]
    },
    {
      "cell_type": "code",
      "source": [
        "!pip install datasets"
      ],
      "metadata": {
        "colab": {
          "base_uri": "https://localhost:8080/"
        },
        "id": "vwd9YTqnFcl0",
        "outputId": "c563a531-01c9-4943-8430-7a756263f84d"
      },
      "execution_count": 36,
      "outputs": [
        {
          "output_type": "stream",
          "name": "stdout",
          "text": [
            "Looking in indexes: https://pypi.org/simple, https://us-python.pkg.dev/colab-wheels/public/simple/\n",
            "Requirement already satisfied: datasets in /usr/local/lib/python3.10/dist-packages (2.12.0)\n",
            "Requirement already satisfied: numpy>=1.17 in /usr/local/lib/python3.10/dist-packages (from datasets) (1.22.4)\n",
            "Requirement already satisfied: pyarrow>=8.0.0 in /usr/local/lib/python3.10/dist-packages (from datasets) (9.0.0)\n",
            "Requirement already satisfied: dill<0.3.7,>=0.3.0 in /usr/local/lib/python3.10/dist-packages (from datasets) (0.3.6)\n",
            "Requirement already satisfied: pandas in /usr/local/lib/python3.10/dist-packages (from datasets) (1.5.3)\n",
            "Requirement already satisfied: requests>=2.19.0 in /usr/local/lib/python3.10/dist-packages (from datasets) (2.27.1)\n",
            "Requirement already satisfied: tqdm>=4.62.1 in /usr/local/lib/python3.10/dist-packages (from datasets) (4.65.0)\n",
            "Requirement already satisfied: xxhash in /usr/local/lib/python3.10/dist-packages (from datasets) (3.2.0)\n",
            "Requirement already satisfied: multiprocess in /usr/local/lib/python3.10/dist-packages (from datasets) (0.70.14)\n",
            "Requirement already satisfied: fsspec[http]>=2021.11.1 in /usr/local/lib/python3.10/dist-packages (from datasets) (2023.4.0)\n",
            "Requirement already satisfied: aiohttp in /usr/local/lib/python3.10/dist-packages (from datasets) (3.8.4)\n",
            "Requirement already satisfied: huggingface-hub<1.0.0,>=0.11.0 in /usr/local/lib/python3.10/dist-packages (from datasets) (0.14.1)\n",
            "Requirement already satisfied: packaging in /usr/local/lib/python3.10/dist-packages (from datasets) (23.1)\n",
            "Requirement already satisfied: responses<0.19 in /usr/local/lib/python3.10/dist-packages (from datasets) (0.18.0)\n",
            "Requirement already satisfied: pyyaml>=5.1 in /usr/local/lib/python3.10/dist-packages (from datasets) (6.0)\n",
            "Requirement already satisfied: attrs>=17.3.0 in /usr/local/lib/python3.10/dist-packages (from aiohttp->datasets) (23.1.0)\n",
            "Requirement already satisfied: charset-normalizer<4.0,>=2.0 in /usr/local/lib/python3.10/dist-packages (from aiohttp->datasets) (2.0.12)\n",
            "Requirement already satisfied: multidict<7.0,>=4.5 in /usr/local/lib/python3.10/dist-packages (from aiohttp->datasets) (6.0.4)\n",
            "Requirement already satisfied: async-timeout<5.0,>=4.0.0a3 in /usr/local/lib/python3.10/dist-packages (from aiohttp->datasets) (4.0.2)\n",
            "Requirement already satisfied: yarl<2.0,>=1.0 in /usr/local/lib/python3.10/dist-packages (from aiohttp->datasets) (1.9.2)\n",
            "Requirement already satisfied: frozenlist>=1.1.1 in /usr/local/lib/python3.10/dist-packages (from aiohttp->datasets) (1.3.3)\n",
            "Requirement already satisfied: aiosignal>=1.1.2 in /usr/local/lib/python3.10/dist-packages (from aiohttp->datasets) (1.3.1)\n",
            "Requirement already satisfied: filelock in /usr/local/lib/python3.10/dist-packages (from huggingface-hub<1.0.0,>=0.11.0->datasets) (3.12.0)\n",
            "Requirement already satisfied: typing-extensions>=3.7.4.3 in /usr/local/lib/python3.10/dist-packages (from huggingface-hub<1.0.0,>=0.11.0->datasets) (4.5.0)\n",
            "Requirement already satisfied: urllib3<1.27,>=1.21.1 in /usr/local/lib/python3.10/dist-packages (from requests>=2.19.0->datasets) (1.26.15)\n",
            "Requirement already satisfied: certifi>=2017.4.17 in /usr/local/lib/python3.10/dist-packages (from requests>=2.19.0->datasets) (2022.12.7)\n",
            "Requirement already satisfied: idna<4,>=2.5 in /usr/local/lib/python3.10/dist-packages (from requests>=2.19.0->datasets) (3.4)\n",
            "Requirement already satisfied: python-dateutil>=2.8.1 in /usr/local/lib/python3.10/dist-packages (from pandas->datasets) (2.8.2)\n",
            "Requirement already satisfied: pytz>=2020.1 in /usr/local/lib/python3.10/dist-packages (from pandas->datasets) (2022.7.1)\n",
            "Requirement already satisfied: six>=1.5 in /usr/local/lib/python3.10/dist-packages (from python-dateutil>=2.8.1->pandas->datasets) (1.16.0)\n"
          ]
        }
      ]
    },
    {
      "cell_type": "code",
      "source": [
        "!pip install scipy"
      ],
      "metadata": {
        "colab": {
          "base_uri": "https://localhost:8080/"
        },
        "id": "kZ3Yv817PAq9",
        "outputId": "5be8feff-a29d-418e-bab4-93f2a3c3e192"
      },
      "execution_count": 52,
      "outputs": [
        {
          "output_type": "stream",
          "name": "stdout",
          "text": [
            "Looking in indexes: https://pypi.org/simple, https://us-python.pkg.dev/colab-wheels/public/simple/\n",
            "Requirement already satisfied: scipy in /usr/local/lib/python3.10/dist-packages (1.10.1)\n",
            "Requirement already satisfied: numpy<1.27.0,>=1.19.5 in /usr/local/lib/python3.10/dist-packages (from scipy) (1.22.4)\n"
          ]
        }
      ]
    },
    {
      "cell_type": "code",
      "execution_count": 53,
      "metadata": {
        "id": "8y4uv7vD_mBJ"
      },
      "outputs": [],
      "source": [
        "# imports\n",
        "import os\n",
        "import json\n",
        "import gzip\n",
        "import csv\n",
        "import pandas as pd\n",
        "from urllib.request import urlopen\n",
        "# Data visualization\n",
        "import seaborn as sns\n",
        "from wordcloud import WordCloud, STOPWORDS\n",
        "import matplotlib.pyplot as plt\n",
        "%matplotlib inline\n",
        "sns.set(style='whitegrid')\n",
        "import torch\n",
        "torch.manual_seed(1324224321)\n",
        "import pandas as pd\n",
        "from transformers import AutoModelForSequenceClassification\n",
        "from transformers import AutoTokenizer\n",
        "import torch\n",
        "device = torch.device(\"cuda:0\" if torch.cuda.is_available() else \"cpu\")\n",
        "from transformers import AutoModelForSequenceClassification\n",
        "from transformers import TrainingArguments, Trainer\n",
        "from transformers import DataCollatorWithPadding\n",
        "import numpy as np\n",
        "from datasets import load_metric\n",
        "import scipy.stats"
      ]
    },
    {
      "cell_type": "markdown",
      "source": [
        "Read in file data"
      ],
      "metadata": {
        "id": "lW7OEZEFwZbf"
      }
    },
    {
      "cell_type": "code",
      "source": [
        "file_name = \"Movies_and_TV.csv\"\n",
        "data = pd.read_csv(file_name)\n",
        "data.head()"
      ],
      "metadata": {
        "colab": {
          "base_uri": "https://localhost:8080/",
          "height": 206
        },
        "id": "A_x2n9_Nwb7q",
        "outputId": "ac5b70b8-12f4-43f2-f370-8a4c4c207fcf"
      },
      "execution_count": 38,
      "outputs": [
        {
          "output_type": "execute_result",
          "data": {
            "text/plain": [
              "       reviewerID  overall                                    reviewText_LUKE  \\\n",
              "0   AHTYUW2H1276L      5.0  This movie was in <NNP>....it was a great summ...   \n",
              "1  A1OMHX76O2NC6V      1.0  This DVD appears to be in <NNP>. It is not in ...   \n",
              "2  A3603DM2201OZP      5.0  Excellent dvd, lots of fun and great songs!  <...   \n",
              "3  A3HE4QW1655VB9      5.0  My grandkids loved this and it made it easy fo...   \n",
              "4  A1CLLD4H7TYKKJ      4.0                         I'm happy with my purchase   \n",
              "\n",
              "                                          reviewText  \n",
              "0  This movie was in ENGLISH....it was a great su...  \n",
              "1  This DVD appears to be in German. It is not in...  \n",
              "2  Excellent dvd, lots of fun and great songs!  S...  \n",
              "3  My grandkids loved this and it made it easy fo...  \n",
              "4                         I'm happy with my purchase  "
            ],
            "text/html": [
              "\n",
              "  <div id=\"df-2fe508e5-d8b3-4854-80a9-ba227b8099a2\">\n",
              "    <div class=\"colab-df-container\">\n",
              "      <div>\n",
              "<style scoped>\n",
              "    .dataframe tbody tr th:only-of-type {\n",
              "        vertical-align: middle;\n",
              "    }\n",
              "\n",
              "    .dataframe tbody tr th {\n",
              "        vertical-align: top;\n",
              "    }\n",
              "\n",
              "    .dataframe thead th {\n",
              "        text-align: right;\n",
              "    }\n",
              "</style>\n",
              "<table border=\"1\" class=\"dataframe\">\n",
              "  <thead>\n",
              "    <tr style=\"text-align: right;\">\n",
              "      <th></th>\n",
              "      <th>reviewerID</th>\n",
              "      <th>overall</th>\n",
              "      <th>reviewText_LUKE</th>\n",
              "      <th>reviewText</th>\n",
              "    </tr>\n",
              "  </thead>\n",
              "  <tbody>\n",
              "    <tr>\n",
              "      <th>0</th>\n",
              "      <td>AHTYUW2H1276L</td>\n",
              "      <td>5.0</td>\n",
              "      <td>This movie was in &lt;NNP&gt;....it was a great summ...</td>\n",
              "      <td>This movie was in ENGLISH....it was a great su...</td>\n",
              "    </tr>\n",
              "    <tr>\n",
              "      <th>1</th>\n",
              "      <td>A1OMHX76O2NC6V</td>\n",
              "      <td>1.0</td>\n",
              "      <td>This DVD appears to be in &lt;NNP&gt;. It is not in ...</td>\n",
              "      <td>This DVD appears to be in German. It is not in...</td>\n",
              "    </tr>\n",
              "    <tr>\n",
              "      <th>2</th>\n",
              "      <td>A3603DM2201OZP</td>\n",
              "      <td>5.0</td>\n",
              "      <td>Excellent dvd, lots of fun and great songs!  &lt;...</td>\n",
              "      <td>Excellent dvd, lots of fun and great songs!  S...</td>\n",
              "    </tr>\n",
              "    <tr>\n",
              "      <th>3</th>\n",
              "      <td>A3HE4QW1655VB9</td>\n",
              "      <td>5.0</td>\n",
              "      <td>My grandkids loved this and it made it easy fo...</td>\n",
              "      <td>My grandkids loved this and it made it easy fo...</td>\n",
              "    </tr>\n",
              "    <tr>\n",
              "      <th>4</th>\n",
              "      <td>A1CLLD4H7TYKKJ</td>\n",
              "      <td>4.0</td>\n",
              "      <td>I'm happy with my purchase</td>\n",
              "      <td>I'm happy with my purchase</td>\n",
              "    </tr>\n",
              "  </tbody>\n",
              "</table>\n",
              "</div>\n",
              "      <button class=\"colab-df-convert\" onclick=\"convertToInteractive('df-2fe508e5-d8b3-4854-80a9-ba227b8099a2')\"\n",
              "              title=\"Convert this dataframe to an interactive table.\"\n",
              "              style=\"display:none;\">\n",
              "        \n",
              "  <svg xmlns=\"http://www.w3.org/2000/svg\" height=\"24px\"viewBox=\"0 0 24 24\"\n",
              "       width=\"24px\">\n",
              "    <path d=\"M0 0h24v24H0V0z\" fill=\"none\"/>\n",
              "    <path d=\"M18.56 5.44l.94 2.06.94-2.06 2.06-.94-2.06-.94-.94-2.06-.94 2.06-2.06.94zm-11 1L8.5 8.5l.94-2.06 2.06-.94-2.06-.94L8.5 2.5l-.94 2.06-2.06.94zm10 10l.94 2.06.94-2.06 2.06-.94-2.06-.94-.94-2.06-.94 2.06-2.06.94z\"/><path d=\"M17.41 7.96l-1.37-1.37c-.4-.4-.92-.59-1.43-.59-.52 0-1.04.2-1.43.59L10.3 9.45l-7.72 7.72c-.78.78-.78 2.05 0 2.83L4 21.41c.39.39.9.59 1.41.59.51 0 1.02-.2 1.41-.59l7.78-7.78 2.81-2.81c.8-.78.8-2.07 0-2.86zM5.41 20L4 18.59l7.72-7.72 1.47 1.35L5.41 20z\"/>\n",
              "  </svg>\n",
              "      </button>\n",
              "      \n",
              "  <style>\n",
              "    .colab-df-container {\n",
              "      display:flex;\n",
              "      flex-wrap:wrap;\n",
              "      gap: 12px;\n",
              "    }\n",
              "\n",
              "    .colab-df-convert {\n",
              "      background-color: #E8F0FE;\n",
              "      border: none;\n",
              "      border-radius: 50%;\n",
              "      cursor: pointer;\n",
              "      display: none;\n",
              "      fill: #1967D2;\n",
              "      height: 32px;\n",
              "      padding: 0 0 0 0;\n",
              "      width: 32px;\n",
              "    }\n",
              "\n",
              "    .colab-df-convert:hover {\n",
              "      background-color: #E2EBFA;\n",
              "      box-shadow: 0px 1px 2px rgba(60, 64, 67, 0.3), 0px 1px 3px 1px rgba(60, 64, 67, 0.15);\n",
              "      fill: #174EA6;\n",
              "    }\n",
              "\n",
              "    [theme=dark] .colab-df-convert {\n",
              "      background-color: #3B4455;\n",
              "      fill: #D2E3FC;\n",
              "    }\n",
              "\n",
              "    [theme=dark] .colab-df-convert:hover {\n",
              "      background-color: #434B5C;\n",
              "      box-shadow: 0px 1px 3px 1px rgba(0, 0, 0, 0.15);\n",
              "      filter: drop-shadow(0px 1px 2px rgba(0, 0, 0, 0.3));\n",
              "      fill: #FFFFFF;\n",
              "    }\n",
              "  </style>\n",
              "\n",
              "      <script>\n",
              "        const buttonEl =\n",
              "          document.querySelector('#df-2fe508e5-d8b3-4854-80a9-ba227b8099a2 button.colab-df-convert');\n",
              "        buttonEl.style.display =\n",
              "          google.colab.kernel.accessAllowed ? 'block' : 'none';\n",
              "\n",
              "        async function convertToInteractive(key) {\n",
              "          const element = document.querySelector('#df-2fe508e5-d8b3-4854-80a9-ba227b8099a2');\n",
              "          const dataTable =\n",
              "            await google.colab.kernel.invokeFunction('convertToInteractive',\n",
              "                                                     [key], {});\n",
              "          if (!dataTable) return;\n",
              "\n",
              "          const docLinkHtml = 'Like what you see? Visit the ' +\n",
              "            '<a target=\"_blank\" href=https://colab.research.google.com/notebooks/data_table.ipynb>data table notebook</a>'\n",
              "            + ' to learn more about interactive tables.';\n",
              "          element.innerHTML = '';\n",
              "          dataTable['output_type'] = 'display_data';\n",
              "          await google.colab.output.renderOutput(dataTable, element);\n",
              "          const docLink = document.createElement('div');\n",
              "          docLink.innerHTML = docLinkHtml;\n",
              "          element.appendChild(docLink);\n",
              "        }\n",
              "      </script>\n",
              "    </div>\n",
              "  </div>\n",
              "  "
            ]
          },
          "metadata": {},
          "execution_count": 38
        }
      ]
    },
    {
      "cell_type": "markdown",
      "source": [
        "Preliminary data exploration"
      ],
      "metadata": {
        "id": "cfmZD6mVRFaj"
      }
    },
    {
      "cell_type": "code",
      "source": [
        "data.shape"
      ],
      "metadata": {
        "colab": {
          "base_uri": "https://localhost:8080/"
        },
        "id": "OlciUeqV1GKp",
        "outputId": "2d924ba3-82d9-453c-de04-13eba1459d76"
      },
      "execution_count": 39,
      "outputs": [
        {
          "output_type": "execute_result",
          "data": {
            "text/plain": [
              "(19942, 4)"
            ]
          },
          "metadata": {},
          "execution_count": 39
        }
      ]
    },
    {
      "cell_type": "code",
      "source": [
        "# metadata \n",
        "feat_desc = pd.DataFrame({'Description': ['ID of person who wrote the review',\n",
        "                                          'Rating review gives to item',\n",
        "                                          'Text of review with proper nouns masked',\n",
        "                                          'Text of review unparsed'], \n",
        "                          'Values': [data[i].unique() for i in data.columns],\n",
        "                          'Number of unique values': [len(data[i].unique()) for i in data.columns]}, \n",
        "                          index = data.columns)\n",
        "feat_desc"
      ],
      "metadata": {
        "colab": {
          "base_uri": "https://localhost:8080/",
          "height": 271
        },
        "id": "fgTIsZw41O3O",
        "outputId": "c39d3059-44ed-4917-f6b9-67ecc62ad851"
      },
      "execution_count": 40,
      "outputs": [
        {
          "output_type": "execute_result",
          "data": {
            "text/plain": [
              "                                             Description  \\\n",
              "reviewerID             ID of person who wrote the review   \n",
              "overall                      Rating review gives to item   \n",
              "reviewText_LUKE  Text of review with proper nouns masked   \n",
              "reviewText                       Text of review unparsed   \n",
              "\n",
              "                                                            Values  \\\n",
              "reviewerID       [AHTYUW2H1276L, A1OMHX76O2NC6V, A3603DM2201OZP...   \n",
              "overall                                  [5.0, 1.0, 4.0, 3.0, 2.0]   \n",
              "reviewText_LUKE  [This movie was in <NNP>....it was a great sum...   \n",
              "reviewText       [This movie was in ENGLISH....it was a great s...   \n",
              "\n",
              "                 Number of unique values  \n",
              "reviewerID                         19544  \n",
              "overall                                5  \n",
              "reviewText_LUKE                    16825  \n",
              "reviewText                         16919  "
            ],
            "text/html": [
              "\n",
              "  <div id=\"df-899d42eb-d1a0-4f63-989d-7c2a63e3bf5e\">\n",
              "    <div class=\"colab-df-container\">\n",
              "      <div>\n",
              "<style scoped>\n",
              "    .dataframe tbody tr th:only-of-type {\n",
              "        vertical-align: middle;\n",
              "    }\n",
              "\n",
              "    .dataframe tbody tr th {\n",
              "        vertical-align: top;\n",
              "    }\n",
              "\n",
              "    .dataframe thead th {\n",
              "        text-align: right;\n",
              "    }\n",
              "</style>\n",
              "<table border=\"1\" class=\"dataframe\">\n",
              "  <thead>\n",
              "    <tr style=\"text-align: right;\">\n",
              "      <th></th>\n",
              "      <th>Description</th>\n",
              "      <th>Values</th>\n",
              "      <th>Number of unique values</th>\n",
              "    </tr>\n",
              "  </thead>\n",
              "  <tbody>\n",
              "    <tr>\n",
              "      <th>reviewerID</th>\n",
              "      <td>ID of person who wrote the review</td>\n",
              "      <td>[AHTYUW2H1276L, A1OMHX76O2NC6V, A3603DM2201OZP...</td>\n",
              "      <td>19544</td>\n",
              "    </tr>\n",
              "    <tr>\n",
              "      <th>overall</th>\n",
              "      <td>Rating review gives to item</td>\n",
              "      <td>[5.0, 1.0, 4.0, 3.0, 2.0]</td>\n",
              "      <td>5</td>\n",
              "    </tr>\n",
              "    <tr>\n",
              "      <th>reviewText_LUKE</th>\n",
              "      <td>Text of review with proper nouns masked</td>\n",
              "      <td>[This movie was in &lt;NNP&gt;....it was a great sum...</td>\n",
              "      <td>16825</td>\n",
              "    </tr>\n",
              "    <tr>\n",
              "      <th>reviewText</th>\n",
              "      <td>Text of review unparsed</td>\n",
              "      <td>[This movie was in ENGLISH....it was a great s...</td>\n",
              "      <td>16919</td>\n",
              "    </tr>\n",
              "  </tbody>\n",
              "</table>\n",
              "</div>\n",
              "      <button class=\"colab-df-convert\" onclick=\"convertToInteractive('df-899d42eb-d1a0-4f63-989d-7c2a63e3bf5e')\"\n",
              "              title=\"Convert this dataframe to an interactive table.\"\n",
              "              style=\"display:none;\">\n",
              "        \n",
              "  <svg xmlns=\"http://www.w3.org/2000/svg\" height=\"24px\"viewBox=\"0 0 24 24\"\n",
              "       width=\"24px\">\n",
              "    <path d=\"M0 0h24v24H0V0z\" fill=\"none\"/>\n",
              "    <path d=\"M18.56 5.44l.94 2.06.94-2.06 2.06-.94-2.06-.94-.94-2.06-.94 2.06-2.06.94zm-11 1L8.5 8.5l.94-2.06 2.06-.94-2.06-.94L8.5 2.5l-.94 2.06-2.06.94zm10 10l.94 2.06.94-2.06 2.06-.94-2.06-.94-.94-2.06-.94 2.06-2.06.94z\"/><path d=\"M17.41 7.96l-1.37-1.37c-.4-.4-.92-.59-1.43-.59-.52 0-1.04.2-1.43.59L10.3 9.45l-7.72 7.72c-.78.78-.78 2.05 0 2.83L4 21.41c.39.39.9.59 1.41.59.51 0 1.02-.2 1.41-.59l7.78-7.78 2.81-2.81c.8-.78.8-2.07 0-2.86zM5.41 20L4 18.59l7.72-7.72 1.47 1.35L5.41 20z\"/>\n",
              "  </svg>\n",
              "      </button>\n",
              "      \n",
              "  <style>\n",
              "    .colab-df-container {\n",
              "      display:flex;\n",
              "      flex-wrap:wrap;\n",
              "      gap: 12px;\n",
              "    }\n",
              "\n",
              "    .colab-df-convert {\n",
              "      background-color: #E8F0FE;\n",
              "      border: none;\n",
              "      border-radius: 50%;\n",
              "      cursor: pointer;\n",
              "      display: none;\n",
              "      fill: #1967D2;\n",
              "      height: 32px;\n",
              "      padding: 0 0 0 0;\n",
              "      width: 32px;\n",
              "    }\n",
              "\n",
              "    .colab-df-convert:hover {\n",
              "      background-color: #E2EBFA;\n",
              "      box-shadow: 0px 1px 2px rgba(60, 64, 67, 0.3), 0px 1px 3px 1px rgba(60, 64, 67, 0.15);\n",
              "      fill: #174EA6;\n",
              "    }\n",
              "\n",
              "    [theme=dark] .colab-df-convert {\n",
              "      background-color: #3B4455;\n",
              "      fill: #D2E3FC;\n",
              "    }\n",
              "\n",
              "    [theme=dark] .colab-df-convert:hover {\n",
              "      background-color: #434B5C;\n",
              "      box-shadow: 0px 1px 3px 1px rgba(0, 0, 0, 0.15);\n",
              "      filter: drop-shadow(0px 1px 2px rgba(0, 0, 0, 0.3));\n",
              "      fill: #FFFFFF;\n",
              "    }\n",
              "  </style>\n",
              "\n",
              "      <script>\n",
              "        const buttonEl =\n",
              "          document.querySelector('#df-899d42eb-d1a0-4f63-989d-7c2a63e3bf5e button.colab-df-convert');\n",
              "        buttonEl.style.display =\n",
              "          google.colab.kernel.accessAllowed ? 'block' : 'none';\n",
              "\n",
              "        async function convertToInteractive(key) {\n",
              "          const element = document.querySelector('#df-899d42eb-d1a0-4f63-989d-7c2a63e3bf5e');\n",
              "          const dataTable =\n",
              "            await google.colab.kernel.invokeFunction('convertToInteractive',\n",
              "                                                     [key], {});\n",
              "          if (!dataTable) return;\n",
              "\n",
              "          const docLinkHtml = 'Like what you see? Visit the ' +\n",
              "            '<a target=\"_blank\" href=https://colab.research.google.com/notebooks/data_table.ipynb>data table notebook</a>'\n",
              "            + ' to learn more about interactive tables.';\n",
              "          element.innerHTML = '';\n",
              "          dataTable['output_type'] = 'display_data';\n",
              "          await google.colab.output.renderOutput(dataTable, element);\n",
              "          const docLink = document.createElement('div');\n",
              "          docLink.innerHTML = docLinkHtml;\n",
              "          element.appendChild(docLink);\n",
              "        }\n",
              "      </script>\n",
              "    </div>\n",
              "  </div>\n",
              "  "
            ]
          },
          "metadata": {},
          "execution_count": 40
        }
      ]
    },
    {
      "cell_type": "code",
      "source": [
        "data.dtypes"
      ],
      "metadata": {
        "id": "ThFVh03V2ezl",
        "outputId": "2980fee0-29ee-455f-f662-25e452d5bf29",
        "colab": {
          "base_uri": "https://localhost:8080/"
        }
      },
      "execution_count": 41,
      "outputs": [
        {
          "output_type": "execute_result",
          "data": {
            "text/plain": [
              "reviewerID          object\n",
              "overall            float64\n",
              "reviewText_LUKE     object\n",
              "reviewText          object\n",
              "dtype: object"
            ]
          },
          "metadata": {},
          "execution_count": 41
        }
      ]
    },
    {
      "cell_type": "code",
      "source": [
        "# Find missing data\n",
        "pd.DataFrame({'Number of Missing Values': data.isna().sum(), \n",
        "              '% of Missing Values': (data.isna().sum()/data.shape[0] * 100).round(2)})"
      ],
      "metadata": {
        "colab": {
          "base_uri": "https://localhost:8080/",
          "height": 175
        },
        "id": "yte0uTy3GUIR",
        "outputId": "40d99c3c-0de5-4916-cdb2-89dca00f1f6a"
      },
      "execution_count": 42,
      "outputs": [
        {
          "output_type": "execute_result",
          "data": {
            "text/plain": [
              "                 Number of Missing Values  % of Missing Values\n",
              "reviewerID                              0                 0.00\n",
              "overall                                 0                 0.00\n",
              "reviewText_LUKE                         1                 0.01\n",
              "reviewText                              1                 0.01"
            ],
            "text/html": [
              "\n",
              "  <div id=\"df-704fb7d6-742d-40e4-8bdf-aa27ab2c2e21\">\n",
              "    <div class=\"colab-df-container\">\n",
              "      <div>\n",
              "<style scoped>\n",
              "    .dataframe tbody tr th:only-of-type {\n",
              "        vertical-align: middle;\n",
              "    }\n",
              "\n",
              "    .dataframe tbody tr th {\n",
              "        vertical-align: top;\n",
              "    }\n",
              "\n",
              "    .dataframe thead th {\n",
              "        text-align: right;\n",
              "    }\n",
              "</style>\n",
              "<table border=\"1\" class=\"dataframe\">\n",
              "  <thead>\n",
              "    <tr style=\"text-align: right;\">\n",
              "      <th></th>\n",
              "      <th>Number of Missing Values</th>\n",
              "      <th>% of Missing Values</th>\n",
              "    </tr>\n",
              "  </thead>\n",
              "  <tbody>\n",
              "    <tr>\n",
              "      <th>reviewerID</th>\n",
              "      <td>0</td>\n",
              "      <td>0.00</td>\n",
              "    </tr>\n",
              "    <tr>\n",
              "      <th>overall</th>\n",
              "      <td>0</td>\n",
              "      <td>0.00</td>\n",
              "    </tr>\n",
              "    <tr>\n",
              "      <th>reviewText_LUKE</th>\n",
              "      <td>1</td>\n",
              "      <td>0.01</td>\n",
              "    </tr>\n",
              "    <tr>\n",
              "      <th>reviewText</th>\n",
              "      <td>1</td>\n",
              "      <td>0.01</td>\n",
              "    </tr>\n",
              "  </tbody>\n",
              "</table>\n",
              "</div>\n",
              "      <button class=\"colab-df-convert\" onclick=\"convertToInteractive('df-704fb7d6-742d-40e4-8bdf-aa27ab2c2e21')\"\n",
              "              title=\"Convert this dataframe to an interactive table.\"\n",
              "              style=\"display:none;\">\n",
              "        \n",
              "  <svg xmlns=\"http://www.w3.org/2000/svg\" height=\"24px\"viewBox=\"0 0 24 24\"\n",
              "       width=\"24px\">\n",
              "    <path d=\"M0 0h24v24H0V0z\" fill=\"none\"/>\n",
              "    <path d=\"M18.56 5.44l.94 2.06.94-2.06 2.06-.94-2.06-.94-.94-2.06-.94 2.06-2.06.94zm-11 1L8.5 8.5l.94-2.06 2.06-.94-2.06-.94L8.5 2.5l-.94 2.06-2.06.94zm10 10l.94 2.06.94-2.06 2.06-.94-2.06-.94-.94-2.06-.94 2.06-2.06.94z\"/><path d=\"M17.41 7.96l-1.37-1.37c-.4-.4-.92-.59-1.43-.59-.52 0-1.04.2-1.43.59L10.3 9.45l-7.72 7.72c-.78.78-.78 2.05 0 2.83L4 21.41c.39.39.9.59 1.41.59.51 0 1.02-.2 1.41-.59l7.78-7.78 2.81-2.81c.8-.78.8-2.07 0-2.86zM5.41 20L4 18.59l7.72-7.72 1.47 1.35L5.41 20z\"/>\n",
              "  </svg>\n",
              "      </button>\n",
              "      \n",
              "  <style>\n",
              "    .colab-df-container {\n",
              "      display:flex;\n",
              "      flex-wrap:wrap;\n",
              "      gap: 12px;\n",
              "    }\n",
              "\n",
              "    .colab-df-convert {\n",
              "      background-color: #E8F0FE;\n",
              "      border: none;\n",
              "      border-radius: 50%;\n",
              "      cursor: pointer;\n",
              "      display: none;\n",
              "      fill: #1967D2;\n",
              "      height: 32px;\n",
              "      padding: 0 0 0 0;\n",
              "      width: 32px;\n",
              "    }\n",
              "\n",
              "    .colab-df-convert:hover {\n",
              "      background-color: #E2EBFA;\n",
              "      box-shadow: 0px 1px 2px rgba(60, 64, 67, 0.3), 0px 1px 3px 1px rgba(60, 64, 67, 0.15);\n",
              "      fill: #174EA6;\n",
              "    }\n",
              "\n",
              "    [theme=dark] .colab-df-convert {\n",
              "      background-color: #3B4455;\n",
              "      fill: #D2E3FC;\n",
              "    }\n",
              "\n",
              "    [theme=dark] .colab-df-convert:hover {\n",
              "      background-color: #434B5C;\n",
              "      box-shadow: 0px 1px 3px 1px rgba(0, 0, 0, 0.15);\n",
              "      filter: drop-shadow(0px 1px 2px rgba(0, 0, 0, 0.3));\n",
              "      fill: #FFFFFF;\n",
              "    }\n",
              "  </style>\n",
              "\n",
              "      <script>\n",
              "        const buttonEl =\n",
              "          document.querySelector('#df-704fb7d6-742d-40e4-8bdf-aa27ab2c2e21 button.colab-df-convert');\n",
              "        buttonEl.style.display =\n",
              "          google.colab.kernel.accessAllowed ? 'block' : 'none';\n",
              "\n",
              "        async function convertToInteractive(key) {\n",
              "          const element = document.querySelector('#df-704fb7d6-742d-40e4-8bdf-aa27ab2c2e21');\n",
              "          const dataTable =\n",
              "            await google.colab.kernel.invokeFunction('convertToInteractive',\n",
              "                                                     [key], {});\n",
              "          if (!dataTable) return;\n",
              "\n",
              "          const docLinkHtml = 'Like what you see? Visit the ' +\n",
              "            '<a target=\"_blank\" href=https://colab.research.google.com/notebooks/data_table.ipynb>data table notebook</a>'\n",
              "            + ' to learn more about interactive tables.';\n",
              "          element.innerHTML = '';\n",
              "          dataTable['output_type'] = 'display_data';\n",
              "          await google.colab.output.renderOutput(dataTable, element);\n",
              "          const docLink = document.createElement('div');\n",
              "          docLink.innerHTML = docLinkHtml;\n",
              "          element.appendChild(docLink);\n",
              "        }\n",
              "      </script>\n",
              "    </div>\n",
              "  </div>\n",
              "  "
            ]
          },
          "metadata": {},
          "execution_count": 42
        }
      ]
    },
    {
      "cell_type": "code",
      "source": [
        "# establish the same model for original text and LUKE text\n",
        "model_name = \"albert-base-v2\"\n",
        "tokenizer = AutoTokenizer.from_pretrained(model_name)\n",
        "model = AutoModelForSequenceClassification.from_pretrained(model_name, num_labels=5).to(device)\n",
        "model_luke = AutoModelForSequenceClassification.from_pretrained(model_name, num_labels=5).to(device)"
      ],
      "metadata": {
        "colab": {
          "base_uri": "https://localhost:8080/"
        },
        "id": "kK6PFnJOCkxr",
        "outputId": "d5630001-16e8-4929-aa92-7fd2e5384220"
      },
      "execution_count": 43,
      "outputs": [
        {
          "output_type": "stream",
          "name": "stderr",
          "text": [
            "Some weights of the model checkpoint at albert-base-v2 were not used when initializing AlbertForSequenceClassification: ['predictions.dense.bias', 'predictions.dense.weight', 'predictions.decoder.weight', 'predictions.LayerNorm.weight', 'predictions.decoder.bias', 'predictions.bias', 'predictions.LayerNorm.bias']\n",
            "- This IS expected if you are initializing AlbertForSequenceClassification from the checkpoint of a model trained on another task or with another architecture (e.g. initializing a BertForSequenceClassification model from a BertForPreTraining model).\n",
            "- This IS NOT expected if you are initializing AlbertForSequenceClassification from the checkpoint of a model that you expect to be exactly identical (initializing a BertForSequenceClassification model from a BertForSequenceClassification model).\n",
            "Some weights of AlbertForSequenceClassification were not initialized from the model checkpoint at albert-base-v2 and are newly initialized: ['classifier.weight', 'classifier.bias']\n",
            "You should probably TRAIN this model on a down-stream task to be able to use it for predictions and inference.\n",
            "Some weights of the model checkpoint at albert-base-v2 were not used when initializing AlbertForSequenceClassification: ['predictions.dense.bias', 'predictions.dense.weight', 'predictions.decoder.weight', 'predictions.LayerNorm.weight', 'predictions.decoder.bias', 'predictions.bias', 'predictions.LayerNorm.bias']\n",
            "- This IS expected if you are initializing AlbertForSequenceClassification from the checkpoint of a model trained on another task or with another architecture (e.g. initializing a BertForSequenceClassification model from a BertForPreTraining model).\n",
            "- This IS NOT expected if you are initializing AlbertForSequenceClassification from the checkpoint of a model that you expect to be exactly identical (initializing a BertForSequenceClassification model from a BertForSequenceClassification model).\n",
            "Some weights of AlbertForSequenceClassification were not initialized from the model checkpoint at albert-base-v2 and are newly initialized: ['classifier.weight', 'classifier.bias']\n",
            "You should probably TRAIN this model on a down-stream task to be able to use it for predictions and inference.\n"
          ]
        }
      ]
    },
    {
      "cell_type": "code",
      "source": [
        "# reads review information into dictionaries\n",
        "# separates original text from LUKE text\n",
        "def read_amazon_product_review(file_name):\n",
        "    df = pd.read_csv(file_name, sep=\",\", header=0)\n",
        "    dic_review = {}\n",
        "    dic_review_LUKE = {}\n",
        "    df1 = df[[\"reviewerID\", \"overall\", \"reviewText_LUKE\", \"reviewText\"]].dropna()\n",
        "    #print(df.shape)\n",
        "    for index in range(len(df1)):\n",
        "        rating = df.loc[index, \"overall\"]\n",
        "        label = int(rating) - 1\n",
        "        \n",
        "        review_id = df.loc[index, \"reviewerID\"]\n",
        "        if label in dic_review:\n",
        "            dic_review[label][review_id] = df.loc[index, \"reviewText\"]\n",
        "        else:\n",
        "            dic_review[label] = {review_id: df.loc[index, \"reviewText\"]}\n",
        "        if label in dic_review_LUKE:\n",
        "            dic_review_LUKE[label][review_id] = df.loc[index, \"reviewText_LUKE\"]\n",
        "        else:\n",
        "            dic_review_LUKE[label] = {review_id: df.loc[index, \"reviewText_LUKE\"]}\n",
        "\n",
        "    return dic_review, dic_review_LUKE"
      ],
      "metadata": {
        "id": "ewHQN29HCry3"
      },
      "execution_count": 44,
      "outputs": []
    },
    {
      "cell_type": "code",
      "source": [
        "# splits data 80-10-10 for training, validation, and test\n",
        "def split_data(amazon_data):\n",
        "    training = {}\n",
        "    validation = {}\n",
        "    test = {}\n",
        "\n",
        "    for label in amazon_data:\n",
        "        temp_dic = amazon_data[label]\n",
        "        lst_amazon_ids = list(temp_dic.keys())\n",
        "        train_length = int(len(lst_amazon_ids) * 0.8)\n",
        "        train_ids = lst_amazon_ids[:train_length]\n",
        "        remaining = lst_amazon_ids[train_length:]\n",
        "        test_length = int(len(remaining) * 0.5)\n",
        "        test_ids = remaining[:test_length]\n",
        "        validation_id = remaining[test_length:]\n",
        "\n",
        "        for id in train_ids:\n",
        "            training[temp_dic[id]] = label\n",
        "        for id in validation_id:\n",
        "            validation[temp_dic[id]] = label\n",
        "        for id in test_ids:\n",
        "            test[temp_dic[id]] = label\n",
        "\n",
        "    print(test)\n",
        "\n",
        "    return training, validation, test"
      ],
      "metadata": {
        "id": "l3cpn7JiCu-S"
      },
      "execution_count": 45,
      "outputs": []
    },
    {
      "cell_type": "code",
      "source": [
        "dic_review, dic_review_LUKE = read_amazon_product_review(\"all_beauty.csv\")\n",
        "training, validation, test = split_data(dic_review_LUKE)\n",
        "training_luke, validation_luke, test_luke = split_data(dic_review_LUKE)"
      ],
      "metadata": {
        "colab": {
          "base_uri": "https://localhost:8080/"
        },
        "id": "0Ljk6UuuC9Rf",
        "outputId": "1dfd89f3-3a91-45e5-c5d8-0ca0b4f8de3a"
      },
      "execution_count": 50,
      "outputs": [
        {
          "output_type": "stream",
          "name": "stdout",
          "text": [
            "{'After only a couple uses the barrel disconnected from the handle and moved freely around.  Basically a waste of money': 0, 'Not happy!!!! Second time I tried to use it a row of the brush came out!  Would not recommend this prouduct': 0, 'Took it from the package plugged it in but it never worked. Disappointing..Excited to find one this size but it never got hot.': 0, 'This product is deffective.  The end turns and the bristles will come out and I would really like to know how to send it back and get a replacement.': 0, 'I am sorry I bought this product. Takes 15 minutes to heat up. Who has that kind of time? Save your money.': 0, \"It doesn't get hot enough and tangles in even short hair. There is no curl effect as it does not get hot.\": 0, 'It fell apart as soon as I took it out of the box. I could not use it.  I returned it.': 0, 'Very low heat at max, not effective for my short thick hair.  Tangles easily in hair. I should have returned it': 0, 'This was very cheap feeling, did not heat up very hot.  It did nothing on my coarse hair.  Returned it immediately.': 0, 'I could not use this product as it is made for the <NNP> market and not compatible to use in <NNP> power points.': 0, \"I just got this and I went to use it and it wouldn't heat! What a bummer!!!!! I used it <NNP> time.\": 0, 'Fell apart 2nd use leaving element broken and exposed.\\r\\nToo lightweight to affectively pull through hair\\r\\nThank goodness I was able to get a refund': 0, \"I have had a couple of these irons but this one does not perform well, it does not get very hot, luke warm, so i'm not using it...Disappointed\": 0, \"Really doesn't do the job.  Poor quality and inneffective.  The barrel of the brush barely gets warm, let alone hot enough to create a curl.\": 0, \"This curling iron doesn't get hot enough. Maybe if you needed to curl a child with very thin hair it would be OK. I would not recommend it to anyone.\": 0, \"The curling iron doesn't get hot enough to curl hair, it leaves hair straight and limp so I rate it as worthless!\": 0, 'The product is fine I just need you to get back the 1-1/2 inch barrel. does <NNP> make this any longer?': 0, 'The product was old!': 0, 'Yuck': 0, 'This smells like clay or mud, I had to wash it off with better soap': 0, 'Very poor quality': 0, 'Smelled great when it arrived in packaging. Used in shower once and smelled great. Second shower use I notice no patchouli scent at all.': 0, 'Not what I remembered': 0, 'No scent. If you bought this for the patchouli scent. Prepare to be disappointed': 0, \"I usually use <NNP> soap...I tried this one: it's waxy and has the faintest scent of earthiness...going back to <NNP>.\": 0, 'If your expecting the scent of <NNP> you will be disappointed nice soap seems very gentle to the skin but I wish it smelled better.': 0, \"This didn't really work on my polishes. It just stayed in there.\": 0, \"I use <NNP> pearl polish. Adding this is like adding water. I've ruined the whole polish left in the bottle I had.\": 0, 'The bottle was broken!!': 0, \"I've been using this product religiously for over a month and see absolutely no change. Big disappointment!\": 0, \"This didn't work at all and felt really gross on my face. It contributed to oils on my face and didn't make me feel clean at all.\": 0, 'Awful, its like thick  paste , does not absorb nicely on face. Would not recommend.': 0, \"Too thick to dispense easily and doesn't rub in well. No visible results.\": 0, 'Turns your face white!': 0, 'This is not the same, do not buy!': 0, 'very thick does not blend well': 0, 'The bottle developed a huge crack within a couple months. I did not drop it or mishandle it in any way.': 0, \"This product isn't available for return. The seal was broken. The mixture contains some debris.\": 0, 'It was flat and old': 0, 'This soap had no fragrance whatsoever.  Love Bergamot but was very disappointed in this soap.': 0, 'Expected mint.  Got unflavored.  Returned.': 3, \"I like Oral-B floss. It's better than the diffrence floss\": 3, \"Do they still make this floss?  It's my fave - strong yet thin.\": 3, 'Recommended by our dentist and they have a nice grip and just right head.': 3, 'This is the standard toothbrush my dentist (and many others) recommend. Compact head, soft bristles. The price is just right.': 3, \"There's not much to say here - I like these toothbrushes.  I've been using them for years. They are just right for me.\": 3, 'Prefer unflavored.': 3, 'Love the flex of these, and the ability to deep clean': 3, 'Contents fine, package somewhat beat up.': 3, 'Cleans well.': 3, \"Does the job - doesn't seem to be in the stores anymore.\": 3, 'Floss is great. It is strong and does a great job cleaning all the nooks and crannies. Well worth the money.': 3, 'I only had to apply twice.': 3, 'Was a bit messy to use. Could use a tip on it to apply. Seemed to help get rid of the build up tho,': 3, 'very good moisture for chronic use.': 3, 'I bought this to use on my stomach for itching during my pregnancy. It works great! It did however arrive with a cracked lid :(': 3, \"<NNP> is a very good face creme. I really don'tknow what I can say about this except it does a vey nice job.\": 3, 'This product removes dry skin spots and makes skin very smooth when used consistently. I certainly would recommend this product.': 3, 'Great item-heats up fast and has 2 settings.\\r\\n\\r\\nPerfect for fast touch ups!': 3, 'Takes a while took warm up but works great!': 3, 'This curling iron is poor quality. Teeth slide out.': 3, 'Works well. Long lasting.': 3, 'Large curling brushes are hard to find. Love it,': 3, \"Takes it a bit to heat up but it's perfect for curling the end of my hair.\": 3, \"Exactly what I wanted. Second one I've had. Only complaint is that the plastic tip is too hot to touch. Should be able to hold tip to secure curl.\": 3, 'good': 4, 'Pleased with item.': 3, 'Have  used this for years  works great  around  your face. Great for short  hair.': 3, 'Great for short hair or for curling closer to the scalp.  The \"bristles\" are plastic and about 3/16\".': 3, 'Good product..would like automatic turn off feature:(': 3, 'It is my favorite curling iron except the fact that it does not always last very long.  The inside wlll strip out over tme and then the barrel spins.': 3, 'Hard to find this size, so am very happy to have it.': 3, 'works good': 3, 'Good for short hair.  Only 1/2\"  brush iron I could find.': 3, 'Great price fast shipping. Spring seams to weaken after about 4 months.': 3, 'Had a hard time finding the size I wanted but found it on <NNP>.  It works great....': 3, 'As expected.': 3, 'Good product for the price. Sturdy & great heating element!': 3, 'Seem to be just fine': 3, 'Easy to use for short hair': 3, 'Just what I was looking for': 3, 'perfect size for my short hair. works well': 3, 'Slower to heat up then I would like but this size is difficult to find for those of us with very short hair.': 3, 'Perfect': 3, 'A very good product even if I think that the pins are too small': 3, 'Exactly what I wanted. Good quality so far and good price.': 3, 'I like it': 3, 'This brush iron turned out to not be the perfect solution for my wavy/curly hair. But I gave it to a friend with straighter hair and she loves it!': 3, 'It is a good product. Bought as a gift and they really liked it!': 3, 'The only thing I would mention is that on high, it gets extremely hot...hotter than any other appliance I have had.': 3, 'Works great.': 4, \"Very well made but doesn't seem to get that hot.\": 3, 'Very happy with this curling iron. Perfect size wand for med short hair!!': 3, 'Takes too long to get to a hot temperature but once it warms up, it works well.': 3, 'the brush was to small but still worked great': 3, 'Heats up quickey but the tip of the barrel gets to hot make ing it uncomfortable.': 3, 'This item has a good grip on the hair.  the only thing, it heats too slowly.': 3, 'Does the job.  I had to put a rubber band around the end of the handle because the little combs keep coming out.  That keeps them in and works fine.': 3, 'Works great!!': 3, 'Works Great': 3, 'met my expectations': 3, 'works': 3, 'Love it!': 4, 'Works great however, I was trying to find a 3/8\" barrel but this will do just fine.': 3, 'It is OK I would like it a little hotter but works fine . It is definitely hotter than my old one and grips the hair nicely': 3, \"This item is ok but not great.  I have used it several times.  It's fine for rush curling.  The seller is good in getting this to you.\": 3, \"These are hard to find. A must have when I curl my hair. Light weight and easy to use. Get's the job done\": 3, 'Works great for short straight hair that needs curl or body.  It does  not slip off the roller.  Works well for me.': 3, \"This iron seems to work really well. It's too bad my hair is thin, long, and straight. The curls don't hold very well.\": 3, 'Wish there was a cover on the whole lifter not just on the end.  This gets hot and I have burned my ears.  Would pay extra for the protection.': 3, 'Brush is very nice, good large diameter for larger curls. I like the clean white color. Will order another in the 1/2 inch size.': 3, 'It\\'s difficult to find a 5/8\" curling brush, and this one is very nice. It has a good grip for your hand.': 3, 'I really like this styling tool and have used it for years however I do think I liked the older version better. Still cannot be without this.': 3, 'Well honestly speaking I did not find it to be exactly I saw it on the commercial, but it is a good material.it is worth spending money on it.': 3, 'The product received is like the one described and works properly for its use. My wife is very happy with it': 3, 'I enjoy using this brush.  It was just what I wanted.': 3, 'I was glad I found these curlers since i could not find this size in local stores. The are the right size for my hair.': 3, 'I love this.  The bristles help \"grab\" the hair to curl it.  The only negative thing is that on/off button is really touchy.': 3, \"I have long thick hair and the teeth aren't long enough. Too stubby so I can't catch all my hair when I brush it out.\": 3, 'I would have ordered a size smaller but I like the way it heats up fast. I will order the 1 inch next.': 3, 'yes, it would be recommended to anyone\\r\\nbecause we like it a lot and we both use it\\r\\ni chose it because had one before like this': 3, 'The price was right and I could not find this size available locally.  Will order again from this site if need arises.': 3, 'I like the brush iron, the only problem is the tip of the barrel gets really hot so be careful.': 3, 'It is working OK for me. I do like that I can remove the spokes and clean the barrell. It does heat up quite quickly': 3, 'works very well. holding tip is a little small. heats up pretty fast. makes a straighter curl. gets perfect hot': 3, 'This item was purchased by my wife she liked enough to purchase 2 more one for travel use and one for the country house': 3, 'You have to follow the instructions.': 3, 'Great product': 4, 'made my hair very manageable now. which give me a very sleek look.plus add styling gel and you got a great look': 3, \"Seems a bit overpriced.  I'd like a product like this but at a bargain.  After all, this <NNP>.\": 3, \"Love it!!!!!\\r\\nNice light earthy patchouli smell!!#!#!\\r\\nBut not too overwhelming......\\r\\n<NNP>n't wait  to try some other scents......\\r\\nPEACE.\": 3, 'The fragrance is great, but not lasting.  It permeates the bathroom for awhile, without a strong smell.  The bar lathers up nicely, also.': 3, 'Good': 4, 'A bit stronger scent than anticipated. Still a good hippie smell.': 3, \"<NNP> great, didn't last long.  About a week and a half and the whole bar was gone.\": 3, 'Smells like the 60s': 3, 'I like this soap, smells exactly the way I expected. Nice size bar. No problem about it. 100% happy': 3, 'Great aroma and lather!': 3, \"It stays on ya after ,using <NNP>,It;s also cause it's a powerful oil,but the soap is awesome!!I'll def prolly order another soon:)\": 3, 'At least one of these items I ordered (<NNP>) was something I can say smelt like <NNP> and was nice on the skin.': 3, 'It does what intended and shipped when I was told it would!': 3, 'This product performs as promised. It works perfectly. It is also a good amount of product for the cost. It will likely last me a good long time.': 3, 'Thins out my polish well.': 3, 'I like this nail polish thinner.  Only have to use very little to thin out the nail polisher.': 3, 'Good, but save a plastic dropper/glass pipette to get the liquid out and into your nail polish.': 3, 'works great bringing nail polish back to life': 3, \"Works well but the cap came broken. I managed to crazy glue it back together. Amazingly the liquid didn't leak out.\": 3, \"I'm sure there are more expensive and better ones- but it does the job and I am very happy!\": 3, 'A life saver, keeps your nailpolishes from drying out and getting thick ': 3, 'Nail polish will never get dried out again. This works great': 3, 'It works great! Came in the mail quick too!': 3, 'Does the job! Would be better with a dropper for easy use. Consider please.': 3, 'Works!': 4, 'Philips/Norelco recommends replacing your shaver heads annually. These are priced much better than their own site, and the quality is the same.': 4, 'This item was just what I needed.  Perfect turnaround time.  No problems with the order.  Will need more in future.': 4, 'Every once in a while, you just have to replace the head on your electric razor.  This product is a good value.': 4, 'this was a great product because we could not find this product around our town anywhere this was a good product for the excellent price': 4, 'great replacement for worn out heads .now i can shave quickly without having to press hard on the razor.just what i ordered.': 4, 'No complains here.  Got them in time, and placing them on the razor is fairly straightforward.  Works like a charm.': 4, 'Good price, clean shave, no pain. My man was so happy after he replaced the heads on his shaver.  Was a good buy at a reasonable price.': 4, \"I am very happy with the blades.  The fit my shaver perfectly.  This was a good value, and I won't wait as long to replace the blades next time.\": 4, 'Came on time, was what it was advertised to do, the correct replacement part! Thanks for the item.  Price was good as well.': 4, 'I received my purchase in three days and the item was the exact replacement I was looking for.  I would order again if needed.': 4, 'Received in a timely manner and make razor cut like new razor but at less cost.  Got a newer model head that replaced what was noted on my razor.': 4, 'Nice to be able to find replacement heads Thanks <NNP>.': 4, 'Well worth the price, it was like getting a whole new electric razor at half the cost.  I get a smooth shave once again.': 4, \"Just what my hubby needed.  Couldn't even find the right one at <NNP> - and they were more expensive.  Thanks\": 4, 'It works great!  I was happy with what I got and the product is working just like it should. Thanks': 4, 'In getting new blades every 6 months was the best thing to happens, keeps the razor sharp amd it keeps my shave close.  Thanks you <NNP>': 4, 'It is a good product. Good quality. And for people who need it, I recommend it 100%. In addition, this a good price.': 4, 'received right away. fit good and have had to trouble with it. the price was better than buying it at the stores.': 4, 'Arrived as scheduled. Appear to be genuine <NNP> and work as expected. I have been changing them about once a year and it does make a difference.': 4, 'Got this set of blades for my old electric razor and they perform better than the ones that came with the razor when it was new. Great product.': 4, 'It was much easier buying the replacement heads online than having to troop from one store to the next looking for them.': 4, 'This is our second purchase and have had no problems.  Very happy with Service.': 4, 'Very satisfactory, quick seviccenno problem, but fail to let me know the <NNP> on my gift card!': 4, 'These blades worked as good as the original blades.  They were not cheap imitation blad,.I bought those before.': 4, 'I purchased 2 shaver heads from <NNP>. I immediately put both shaver heads into use in my 2 shavers.  My shave quality improved right away.': 4, 'Turns out I saved time and money by replacing the blades on my electric shaver, rather than buying a new one.': 4, 'You made it easy to order my blades online and it came in a timely fashion.': 4, \"Pretty much exactly what I expected. This is the first replacement head I've bought and I'm glad I did!  :-)\": 4, \"I tried these replacement blades in my new razor.  They seem to be identical to those that came with the razor, which means they're excellent.\": 4, 'It came in a partially dented box.  The item itself was in perfect condition.  Works perfectly.': 4, 'Comprei esse repplacement para o meu barbeador <NNP> e agora ele est como um novo. tima opo para renovar o barbeador sem precisar comprar um novo.': 4, 'It is just what I ordered.\\r\\nWorked as expected.\\r\\nWill order again when I have the need.': 4, 'This was a very worth while purchase. My <NNP> was not cutting properly and by replacing the shaver head it works as good as new.': 4, 'Great item.  Works just like brand new razor.  VERY easy to install.  Thanks!': 4, 'This is an easy repair to do, and gives great results.  My beard is once again easy to clean and stays smoother with the new blades.': 4, \"I can't say much. The replacement heads are working great. The shipment was fast and the price was good. What else a customer needs?\": 4, 'The replacement parts worked perfectly and I expect to get years of trouble free service, thank you.': 4, 'New blades are great.  Hard to remember but I think the shaver works better now than when new.': 4, 'These  replacement blades has given my <NNP> new life!  My shave his so much faster and smoother.\\r\\nThis is well worth the money.': 4, 'I would order from this seller again.  Service was great, as stated, securely wrapped and recieved sooner than expected.': 4, 'I am very happy with the product, price and quality! I also think that you guys did a great job on the shipping , very prompt!': 4, 'very satisfied with product.  It took longer for us to get it than we expected. It was about the 4th day after expected date.': 4, 'I replaced the heads on my shaver with these and it works better now than it did when it was brand new.  I get a much closer shave now.': 4, \"I've used this product for many many years.  Completely satisfied.\": 4, 'My last set lasted six years before the metal in the heads got so thin that holes started developing. The cutting blades remained sharp.': 4, 'Always a great shave, easy to clean. This is a set of replacement heads, actually my second purchase, as the <NNP> is a great <NNP>.': 4, 'This is the only product for the <NNP> (+) plus, but the box only says <NNP>': 4, \"Arrived quickly, and item is exactly as expected.  Can't ask for more, can I?  Would definitely order again from the same company.\": 4, 'Quick delivery of product and performance I expected from replacement heads for my <NNP> shaver replacement heads.': 4, 'Product was priced right and has worked effectively to give me a much closer shave.': 4, 'Flex heads are super & give a close shave !': 4, 'Product was as advertised.  Worked with no problems.  Came in a decent amount of time.': 4, 'I needed blades for 2 different razors and both sets came quickly and were the right ones. Thank you.': 4, '<NNP> has replaced the heads on his <NNP> a number of times and it works like brand new!': 4, \"It's like I bought a new razor, at a fraction of the price.  Great deal.\": 4, 'My husband is very pleased with the replacement shaver heads as he is with the shaver itelf.': 4, '<NNP> came to my house within the time span i was promised and also was cheaper than if i would have gone to the store for it!': 4, 'I repleced the original cutters and the razor now cuts better than when I bought it.': 4, 'The product is precisely what I needed; service was what I hoped for; experience is far better than having to go to W-M or some other store. Thanks!': 4, 'The item I bought meet my expectations in regards to quality and delivery time': 4, 'This was the only place I could find these blades.  The price was good and the turnaround time was excellent.': 4, 'product arrived in a timly manor, good construction, enjoying close shaves.\\r\\n\\r\\nrobert schulkers': 4, \"nice razor does the job plus it's quieter and lighter than my old norelco thats 10 years old and still working.\": 4, 'I would like to say, thanks for the excelent servicie of sending and and the product. <NNP>.': 4, 'Yes, it is a very close shave and no one paid me to say this.': 4, 'I have used this product for many years. It extends the life of the cutting blades and gives a closer shave.': 4, 'It does make a difference to use the lubricant once a month, it helps the razor to keep the smoothness in every shave.': 4, 'Great Item, Price is fair, and it last for a long time if you know how to use it. will recomend it.': 4, 'Very good product. With continuous use this product helps the cutters and blades give a smooth shave.': 4, 'This is a very good product.  It helps prolong the life of the electric razor.': 4, 'great product': 4, 'Love it.  I use it all the time.': 4, \"If you don't have the cleaning station, this is a must for your norelco shaver. This helps keep your razor running like new. The price is fair.\": 4, 'i use it after i have used my shaver and is good for it and the price is ok for it': 4, 'Great stuff to keep the razor working well.\\r\\nWould recommend this to anyone that uses\\r\\nan electric razor on a regular basis.': 4, 'Easy to use aerosol spray. I would buy it again.\\r\\n. . . . . . . . . .': 4, 'This is a good razor lubricant that I have used for years.  It is also a good fine lubricant for many other items.': 4, 'Works as advertised.  It does not leave a greasy residue, as have others I have tried in the past.': 4, 'This product works extremely well and I would recommend it to anyone purchasing an electric or battery operated razor': 4, 'To keep your razor operating like new, use the Norelco AL80 Lubricant. I recommend this product for all brands of razors.': 4, 'Been using this for years...works well and the price is close to half of that in local stores.': 4, \"Love this product!!!!! It is super light, but it actually moisturizes really well. It is the only moisturizer that doesn't cause breakouts.\": 4, 'great product and a good price less expensive than in the stores': 4, 'Perfect moisturizer for oily but sensitive skin.  Works great for acne prone skin also.': 4, 'Best stuff on the market': 4, 'Nice moisturizer that has no grease!  Natural ingredients that are good for my skin!': 4, 'recommended to re leave razor burn and eczema. Its great worked fast': 4, 'GF Loves it!': 4, 'Magic': 4, \"I have oily skin. This is the best face lotion I've ever used.\": 4, 'Lightweight but effective, good for oily skin': 4, 'I am pleased with the results of his product, and I will continue to reorder it.': 4, 'Excellent products': 4, \"Love this moisturizer! I'm 50-something and have used it for 15+ years. It's light, absorbs quickly, and doesn't cause breakouts.\": 4, 'Happy with this product. Great moisturizer.': 4, 'love this gel.': 4, \"I have have been using derma e pycnogenol gel for years. I don't plan to stop. It keeps my face hydrated without feeling sticky.\": 4, 'I cannot use creams or oils on my face they are too heavy.  This is the only moisturizer I have used for the last 10 years.  I really like it.': 4, 'fast shipping, exactly what I nedeed': 4, 'This is the BEST EVER floss for tightly packed teeth. But <NNP> - PLEASE provide a smaller quantity option. This would be a great <NNP>-ON item!!!': 4, \"My teeth are very close together.  Oral-B Essential Floss is the only floss that doesn't shred or. break wheb I floss.\": 4, 'Best floss, hands down.': 4, 'I like this floss because most floss is too thick': 4, 'Great floss.': 4, 'My teeth are close together so this works very well for me.': 4, 'nice': 4, 'This is a good tooth brush. This is the same tooth brush my dentist gives me after my check up.': 4, 'Thin and strong enough for tight spaces between teeth -- anything else just shreds.': 4, 'hard to find in stores, this is what I like, been ordering this for years.': 4, 'The floss is just the right thickness so it works very well.': 4, \"good stuff, thinnest floss I've found that does the job\\r\\ndelivery was as promised\": 4, 'Why buy floss every month for triple the price. This is a great deal and with free shipping its a no brainer. We will have floss for years!': 4, 'great!!!': 4, 'Excelente': 4, \"Better than most I've tried.\": 4, 'Love the brush. Great for large teeth.': 4, \"these are the best toothbrushes for the hard brusher ... can't hurt your gums ... love it - hard to get in the store\": 4, \"just the right size for a lady who doesn't have a big mouth!  LOL!  it's true.  like these a lot.\": 4, 'These are just like the ones I have bought in the past from a local store, but these are much less expensive.  Perfect all-around toothbrush.': 4, 'The product matches the description.': 4, 'Thanks for the quick service, and I will be back when I start to run low.': 4, 'I bought this a couple of days ago, and I got the full 6 pack.': 4, 'Great product.  We have been using it for many years and we prefer this to any other dental floss type.': 4, 'This is the best floss!!!': 4, 'Love it': 4, \"This is my favorite floss and it seems to have been discontinued by the manufacturer. I'm happy to have gotten this.\": 4, 'Order came as expected! Great product at a great price, especially since my Local <NNP> no longer carries it.': 4, \"My favorite floss that is kind of hard to find in stores... That said, it's definitely not my husband's favorite.\": 4, 'The best floss- shipped early!': 4, 'This is the BEST floss, according to my husband!': 4, 'This is the only floss that works for me, as my teeth are very close together.': 4, 'Best Floss ever. My teeth get cleaned where no toothbrush can go. I feel a difference to other types of floss. This feels cleaner.': 4, 'This is the best floss ever!': 4, 'everything OK': 4, 'Perfect for teeth with tight margins.  Hard to find product.': 4, 'ok': 4, 'Exactly the item I wanted in bulk. Pkg arrived very quickly.': 4, \"I was unable to purchase this item in any drug store and it's my favorite. Happy to find it.\": 4, 'Simply the best.': 4, 'Lasts forever....nice rough fibers to scrape off plaque !!!...I hate the slippery smooth floss types..': 4, 'Cheaper then CVS- I use this type of floss for years.': 4, 'Works well.': 4, 'Best floss ever!': 4, \"Love this floss. The best I've ever used!\": 4, 'This is my favorite floss.  I used to buy it at <NNP>, but it disappeared from their shelves.  Not sure why.  Thankfully I can purchase it here.': 4, 'Very fond of this floss!  As with other Oral-B products, it performs its function well.': 4, 'Love this stuff! <NNP> the best, and well worth the money.': 4, 'Excellent!!!': 4, 'I love this dental floss, it is rough so it scrubs the side of the teeth as you are flossing.': 4, \"This is the best floss I've ever used. It has texture, so it actually scrapes stuff off. I have no idea why it's so hard to find in stores.\": 4, 'As expected, great deal.': 4, 'Product was just what was ordered. This is the only floss that I use.': 4, \"I can't buy this floss at any major drug store but it always seems to be available on <NNP>.  A great buy!\": 4, 'good product-quick delivery': 4, 'Great product. Will purchase again.': 4, 'My teeth are very close together,this is the only one that I have tried that does not get caught in my teeth :)': 4, 'Best floss for me, absolutely love it and think it is great especially knowing it is made in <NNP>.  :)': 4, 'Excellent!': 4, 'Perfect floss for keeping teeth clean between checkups.  Marked for easy cuts.  Have been using for a couple of years and plan to continue.': 4, 'Grear product!': 4, 'Exactly what I wanted.': 4, 'This is a revolution in flossing for those who have tight contacts. The floss is stretched as you pull it so that it thins out as it goes through.': 4, 'My favorite floss.  Hard to find in our area.\\r\\nSafe and quick delivery.': 4, \"I know it's boring but this is my favorite floss.  It really helps scrape the stuff off.\": 4, \"I think this is the best floss I've used.  It's puffy, so it seems to clean between teeth very well.\": 4, 'Arrived promptly as described.  Perfect.': 4, 'I love this floss': 4, 'The best floss.': 4, 'Best floss ever used.': 4, \"Best floss I've found\": 4, \"I have found this floss recently (April 2015) at <NNP>. It's great!\": 4, 'My teeth are really close together and I can not get any other floss between my teeth.  The only problem is in finding it.': 4, 'Best dental floss available. I bought a pack of 6x55 yards. Each container is twice as big as is typically available at local stores.': 4, 'This is my favorite dental floss. I hated to see it taken out of the stores. The package came as advertised, 6 packs. I will buy again!': 4, \"I've tried a lot of different floss but finally this one seems to be the right one...deeper cleaning than anything else...strongly recommended.\": 4, \"Have used this for over a year. Doesn't shred often and does a good job. Local stores stopped carrying it and I was glad to find it here.\": 4, \"It's the best place to get it. My pharmacy never has it.\\r\\nThis is also the best price too! Thanks\": 4, '<NNP> liquid works very well on the heavy scaling on my scalp due to psoriasis and is less expensive than the prescription  product I hdd been using': 4, 'I have suffered all my life,,,, this is the only oroduct that works... it is quite gross but it really works': 4, 'This product works well.': 4, 'I use this all the time for Plaque Psoriasis': 4, 'Purchased this product for my son on advice from dermatologist.  Worked perfectly! Follow doctors recommendations, not bottle instructions.': 4, 'Works but, not like <NNP>\\r\\nI will purchase again': 4, 'I got the product quickly and all in tact!': 4, 'It really works!': 4, \"Used it for years. <NNP>n't stay too long with out it.\": 4, 'Messy but very effective for battling scalp psoriasis.': 4, 'The oil seems to working on my chronic psorisis/': 4, 'it works!': 4, 'Shipped quickly. Would reccomend to others.': 4, 'Cleared my granddaughters scalp up in just a few days. We will continue using this each time it returns. Very good product.': 4, 'This is a great product. It is easy to apply with eyedropper, shower cap at night, and shampoo in the morning.': 4, \"Love this!! I have scalp psoriasis and this help remove the dry patches. Only thing I don't like is the smell but it works. Highly recommended\": 4, \"It breaks up the plaque on my scalp - don't like wearing shower cap and all that and smell isn't great but it does whqt it is supposed to do\": 4, 'Excellent, I have used this product for approximately 30 years. I have very dry skin and this is the only lotion that really helps keep it smooth.': 4, 'This is a great product and the service I received from the seller was superb.': 4, 'The cheapest best moisturizer around for dry skin.  My facial skin gets so dry sometimes,it flakes.  <NNP> lotion really helps.': 4, \"I have used this for about 30 years and it's a marvelous product.\": 4, 'Great stuff': 4, 'My husband has used this since childhood, and has extremely dry skin.  It stings a bit going on his face, but keeps it lubricated!': 4, 'Best dry lotion that I have found. Highly recommend.': 4, 'Been using this for 25 years ....hard to find but makes your skin look dewy.': 4, 'I have used <NNP> since <NNP> dermatologists recommended it to me in mid 1970s.  The best product on the market.  I use nothing else!': 4, \"A great lotion and have used it for years!  It's hard to find at a reasonable price but <NNP> changed that.\": 4, 'This is the only lotion I will use on my face. I found it in 1987 and have been using it ever since.': 4, 'Have used for years.  A wonderful product.': 4, '<NNP> is the best lotion I have ever used.  I used this for my mom and she never had dry skin again, just beautiful skin.  Love, love, love it.': 4, 'I have used Wibi  Lotion for over 50 years, it is the best skin lotion for dry skin, particularly In the winter': 4, \"I love this stuff! I've been using this for over 6 years ever since my aunts dermatologist recommended it to prevent wrinkles.\": 4, \"works great --I've been using it for years\": 4, 'I have used this for many years.': 4, 'I have been using this product for 25 years.  Fantastic moisturizer.': 4, 'Been using it for decades..and I look decades younger than I am.': 4, 'I have used <NNP> since my teenage years, it was recommended by a dermatologist, and I will not use any other lotion.': 4, 'Fits my skin perfect': 4, 'Im addicted! This stuff makes your skin feel wonderful. I have used it for 25 years and I am so glad amazon has it. I cant find it anywhere else.': 4, 'I order this for my mother who swears by it. She says it is the only lotion that helps with her dry skin.': 4, 'This product has been around for many years and it is absolutely great for dry skin.  Everyone should buy it!!!!': 4, \"<NNP>, I'm a retired dental hygienist and it really helped my hands, especially when they were dry, cracked and bleeding.\": 4, \"My Grandmother has used this product for years.  I order <NNP> for her.  She swears by it and wouldn't use anything else if given the option.\": 4, \"Recommended by my doctor a couple of years ago.  It's a great product.  Wish I could find it in a local store.\": 4, 'Love the way it glides, works well with  my hot rocks too.\\r\\nAmazing smell, washes out of sheet super well!': 4, 'This is used for gentle stress relieving massage.  Stays slippery for a long time and does not leave an oily mess.': 4, 'I have been a body worker for over 30 years now and tried many different oils and creams. <NNP> massage oil is my favorite oil ever.': 4, 'I love this stuff!!!': 4, 'The best oil for me because I use deep pressure and I need the glide. It also works great with hot stone massage.': 4, 'Love everything about this oil. fragrance is light and clean.': 4, 'Very nice! smell it awesome! not over powering at all.': 4, \"This is a great product to use on skin especially for bedridden patient's.\\r\\nIt is the best bang for price and its utility.\": 4, 'This is the best product that I have found to treat very dry skin': 4, 'This is the most soothing cream I have ever used! Love it!': 4, 'Worked as advertised and was delivered on time.': 4, \"rich and thick like nobody's business.\": 4, 'GREAT FOR HEAT RASHES': 4, 'Excellent': 4, 'The best moisturizer ever.  wish you will export it to <NNP>....': 4, 'Thanks': 4, 'Good stuff': 4, 'Great for moisturizing your skin from head to toe!  Very thick, fragrance free and can be used for the whole family.': 4, 'for my face. Really good stuff. I would recommend it to all my friends. it is a very good product': 4, 'This is a very good product. It is hard to find the original formula in the large jar, so this was a good find.': 4, 'This is the only stuff I will ever use! It works so good and its just amazing! It helps your dry skin not to be dry any more!': 4, 'Easy to hold and curl hair.\\r\\nHeats up quickly': 4, 'bald head right now': 4, 'great': 4, 'thanks': 4, 'It was the perfect size for me. It handles nicely.': 4, 'This is a great value!!  Highly recommended!': 4, 'always a quality product': 4, 'Does a great job!': 4, \"You can't find this size in the stores.  Bought it for my Mom.  Perfect!\": 4, 'My hair is very short and thisbrush curling iron was just the right size so i ordered another one': 4, 'Mom loves her new curling iron.': 4, 'Got this for a relative and she like it when her hair is short.': 4, 'GREAT PRODUCT.': 4, \"I've done hair for many years. These works great for just touching up areas without looking like you've just curled part of your hair.\": 4, 'Perfect size curl for very short, thinning hair.': 4, 'Love this': 4, 'AAAA++++': 4, \"It works great I haven't had any problems yet\": 4, 'Love this curling iron, real nice for real short hair': 4, 'No one else makes one this small, I am stuck with it but it works well.': 4, 'Easy to use.  Easy to clean.  So glad I made this purchase.  It saves me time doing my hair every morning!': 4, 'Works great!': 4, 'Love this large brush iron, does not really curl just gives hair a little body.': 4, 'I really like this curling iron. Just the right size. Heats up quickly. Good price.': 4, 'Great size for short hair, heats up fast  ..love it': 4, 'I love this brush! Definitely a must have!!!': 4, 'Just what I was looking for, works great': 4, \"Handle is just the right size for my Mother's arthritic hands to hold, it's not real skinny and she loves the short barrel for her short hair.\": 4, 'Great for short hair.': 4, 'Heats up quickly and is easy to use. I love it!': 4, 'works well, as expected from this manufacturer': 4, 'Works very well.': 4, 'I like the 1/2\" barrel for short hair, not easy to find in store.  The curler works well and dies a beautiful job.': 4, 'Nice long bristles, 1 1/2\" barrel, yep, just what I ordered. Works well on long, fine hair.': 4, 'I have used it for years and really like it.': 4, 'Love it. I have been using this same style brush for many years.': 4, 'i love it just what i ordered..': 4, 'EASY TO USE': 4, '5/8 inch...2 settings ,swivel cord, heats up fast , good price!': 4, 'I love this curling iron and love the way the cord works!\\r\\nIt has been a win for me and your service was great! THANKS': 4, 'This small barrel is hard to find.  I am so happy to have one again.  Love it.': 4, 'Fast service,  no problems.': 4, 'Perfect for boards': 4, 'love it': 4, 'Great for fine hair. Used them for yrs': 4, 'Works great! This size is hard to find in stores. Good price.': 4, 'Nice': 4, 'Great': 4, 'Perfect! Great for short hair.': 4, 'Works great. Be aware the tip does get very hot on high.': 4, \"Great for smooth curls.  Can't survive without it.\": 4, \"Perfect curler size for hair . Works very well . Curls don't come out to fat nor too skinny , just right in the middle\": 4, 'Been looking for a 1 inch and this one is perfect': 4, 'So far so good with this product.  It works great!': 4, 'Exactly what I wanted, thank you': 4, 'just what I wanted': 4, 'works like I wanted it to.': 4, 'Replacement for like brush': 4, 'Just what I was wanting!': 4, 'Just what I wanted': 4, 'Love the brush!': 4, \"It's the best 1 1/2 inch brush iron on the market, if you can even find any in retail stores.\": 4, 'It never heated. I cannot use it at all.': 4, 'Great product. Thanks.': 4, 'Prompt service and good product.': 4, 'Everything went well with the order. Thank You': 4, 'happy woman': 4, 'Works great': 4, 'I have been looking for this item for some time.  So glad you still carry it.  Perfect for what I need it for.  Thanks for your nice merchandise.': 4, 'This was for my wife who used my computer to order her curling iron.  She loves it is all I can say.': 4, 'Love It!': 4, 'Luv it': 4, 'I love this curler and this is the cheapest place I have found it.\\r\\nIt does have what I think is a short lift-probably go through 2 or 3\\r\\na year.': 4, 'Works perfectly.': 4, 'Heats up fast and perfect for short hair! Use it daily and it does hold a curl well!': 4, 'Love this! Easy and quick to use!': 4, 'Good product, good price and good service': 4, 'Very good curling iron and easy to use.  I would recommend it.': 4, 'Perfect size curl for my new short haircut': 4, 'Great brush': 4, 'Good quality.': 4, 'Bought this for my mother, she loves it': 4, 'It heats up quickly and efficiently.  I hope its  endurance upholds.': 4, 'Grateful  in order the smaller one first to order the  next sixe': 4, 'Great wand for short hair. Well made & nicely priced. Excellent bargain.': 4, 'The perfect size for my hair style! I could not find this size at any store!': 4, 'Exactly what I was looking for': 4, 'My daughter loves it and she has really short hair so she uses it to curl her top.': 4, 'Works real well on short hair': 4, 'use every day': 4, 'love': 4, 'Works great for me. Gives bounce and shine to my hair.': 4, 'Exactly has described.': 4, 'Your <NNP> is the best styling tool that is out there! It really gets hot and curls your hair to perfection!': 4, 'Exactly what I expected': 4, 'Could not find else where. Works great': 4, 'Awesome': 4, 'loving it.': 4, 'Works great, just what I wanted!': 4, 'I love it still using it and it was on time. Thanks.': 4, 'Curling iron is as expected and had very fast delivery !  DH': 4, 'Great price and works great!': 4, 'I really love this! I have not burned myself once.': 4, \"I love <NNP>, I've used them for years!!!\": 4, 'I have looked all over for the 1/2 inch. And I can only find it on <NNP>. This has been a very good curling iron. I am very happy with this product.': 4, 'My wife loves this product': 4, 'excellent': 4, 'Very satisfied.': 4, 'Have had three of these.  Always meets my expectations.': 4, 'Amazing': 4, 'EXACTLY WHAT I WAS LOOKING FOR. WORKS GREAT!': 4, 'This is perfect! Nice full curl, handles the frizzies.': 4, 'This is great for short Hair!!': 4, 'The best!!!': 4, 'Great product  for the price.\\r\\nThanks\\r\\nDee': 4, 'Bought it as a gift for my sister. She is a stylist. She said it was exactly what she wanted! Fast shipping came in great condition.': 4, 'Great product.  fast shipping.  Thanks': 4, 'Works really well for why I purchased it.': 4, 'Really like.  Just what I needed.  Works great.': 4, \"It's as expected. A curling iron is a curling iron! Does the job great!\": 4, 'gift for my daughter.  She loves this product and I get her a new one every couple of years.  Excellent product': 4, 'wife loves it': 4, 'Perfect.': 4, '5/8\" barrels are quite hard to find.  My friend loves this.': 4, 'This little curling iron works perfectly for making ringlet-style curls. Really like it.': 4, 'Item received as described !': 4, 'just right for me': 4, 'Good product': 4, \"I looked <NNP> for a 1-inch brush iron.  Finally, I found it on <NNP>.  It's exactly what I was looking for.\": 4, 'Just what I was looking for.  Perfect for short fine hair - a big lift.': 4, 'Product was as advertised and was shipped promptly': 4, 'Very nice curling iron.......durable.....great price for the quality': 4, 'Received on time and it works great. Very pleased.': 4, 'My mom has been looking for this brand of curling iron for years, finally found it here, works great on short hair': 4, 'I needed to replace my broken one.': 4, '<NNP> products always great!  Cost is nominal; value phenomenal!': 4, 'Works great for short hair - it gets a little too hot after a while.': 4, 'I personally am not the most skilled at using it, but it was a wonderful value for the price and it will serve me well.': 4, \"really works and doesn't get too hot, if you don't want it too.  Better and less costly than going to the hairdresser.\": 4, 'Works well.  No issues': 4, 'I love this size...it gives a nice even curl...': 4, 'Great brush iron - great price.': 4, 'I love it!  I use it almost everyday, and it works wonderfully.': 4, 'Hard to find this size. Lasts about a year, but worth it for the price.': 4, 'was just what I was looking for': 4, 'I love this curler. I think I will order a back-up one.': 4, \"It works.  It's  what  I  needed.\": 4, 'Was everything I hoped it to be.  Light weight and heats up fast': 4, 'Love this curling iron - thinking of buying one for a \"spare\" as well!  The big barrel gives nice soft wavy curls': 4, 'Love this curling <NNP>. My hair has nice big curls or can be straightened. I will definitely buy this one again.': 4, 'GREAT': 4, 'ben using H of T for years. Love them. Although the sizes were not as I had in past.': 4, 'I use it almost daily': 4, 'I like this curling brush works great for me': 4, 'It is perfect!!  Thank you.': 4, 'I was very pleased with my <NNP>.': 4, 'Wife likes  the roller': 4, \"It's a great product\": 4, 'Just as expected.': 4, 'So happy to have found this!  It\\'s the only thing that works on my curly hair to \"straighten\" it.  Very hard to come by. <NNP>!': 4, 'Orderd this about 4 or 5 times and always what I expect!': 4, 'Love this brush iron. So hard to find something that works for my fine hair. This is the answer.': 4, 'Just the right size to create the perfect communion hair for photos and day of. Saved me from spending money at a salon for an updo.': 4, 'Works as expected.': 4, 'Love it.': 4, 'It was a gift....she still uses it!': 4, 'Another product I could not find this size barrel locally.  Was Thrilled\\r\\nto get what I wanted...and ordered several.': 4, 'Its fabulous. Great product.': 4, 'I like curling iton': 4, 'love the size of the curls and also smooths hair': 4, 'Delivered on time and product was just what I wanted.': 4, 'Use it every day - Thanks!': 4, 'Works great and is very easy to handle.': 4, 'Love item thank you': 4, 'Perfect!': 4, 'Just what we expected, was shipped quickly with no problems, thanks.': 4, \"First new iron I've bought in years & I love it\": 4, 'This is a great curling brush -- heats up fast and is lightweight and easy to use.': 4, 'Wife is very happy with product': 4, 'I love, love, love my iron! I purchased 4 to use at work & they are the best!': 4, '11111111': 4, \"I've used one for years, dropped it and replaced it as soon as I could.\": 4, 'Wife loves it.': 4, 'I AM VERY HAPPY WITH MY HELEN OF TROY BRUSH IRON!': 4, 'excellent service wonderful product': 4, \"Curls are not too tight.  Heats up quickly.  Hair doesn't tangle (and I have thick hair).\": 4, 'Can beat for the price.  Easy to pack and carry.': 4, 'Just the right size': 4, 'awesome curling brush': 4, 'I love the size and the heat is right with 2 settings.': 4, 'Have used your curling iron products for years and continue to do so. Thank you.': 4, 'I use it every day.  Works very well.': 4, 'Great item': 4, 'nice curling iron to travel with...': 4, 'This is a great curling iron!!!': 4, 'LOVE IT!!': 4, 'Finally found the size that I need for quick touch ups.': 4, 'I had an older one that was starting to short out.  Paid a lot more for it a couple years ago than I did this one.': 4, 'BIG CURLS.  BIG LOVE!!': 4, 'very hard to find a hot curling brush that is not a blow dryer, so when I found this one I knew I had to buy it for my sister.  She loves it!': 4, 'This size 5/8\" is hard to find.  It heats up fast I just wish that the barrel was a little shorter.': 4, \"I've been using this model of curling brush for over 10 years.  Love it!!\": 4, 'It works great!': 4, 'Been looking for this item and can no longer locate in a store. Great to use to add body to hair.': 4, 'This is my 4th <NNP> Brush Iron, I love this iron.': 4, 'Great, I am always looking for these hen my old one breaks down': 4, 'Just what I wanted and shipped quickly!': 4, 'Just what I had been looking for.': 4, 'awesome': 4, \"This is a professional product.  Gets really hot and doesn't have an auto off so be careful.\": 4, 'Very good service. Had just what I wanted!': 4, 'Great for my type of hair, gets very hot so be careful': 4, 'for the price is 100% aok.': 4, '<NNP>.  This is the curling Iron I buy.  Hope they never quit making it!': 4, 'It is excellent': 4, 'Excellent.': 4, 'This is the best for my hair': 4, 'Great little curling iron.': 4, 'Love it.  Works exactly as I needed for my fly away hair.': 4, 'just what i needed. Holds my hair in the brush while the iron does the rest. Great': 4, 'Arrived timely and undamaged.': 4, 'Can not comment on the iron returned for different iron.': 4, 'have always used this brand.': 4, 'I love it also love the 3/4 inch brush and the 1/2 inch curling iron I bought to., will be shopping at <NNP> again, thank you..': 4, 'Love my curling iron!': 4, 'love it,': 4, 'LOVE THIS!! Good Product!': 4, 'I am very satisfy, perfect!': 4, 'just the size i needed': 4, 'My favorite brush iron.  Use it daily.  My first one lasted for years.  This replacement is designed a little different and I like it even better.': 4, \"This brush iron gave my hair tons of volume. I love using it when I am in a hurry and don't have enough time to curl my hair.\": 4, 'Just right.': 4, 'I do love it.  They have updated enough from the old one so that your hair, once curled in it feels more secure.': 4, 'Arrived quickly & handles well while curling.': 4, 'a must have': 4, 'works great': 4, 'Needed a new curling iron brush and this one works great and love the bristles that keep soft hair from flying out of the heat portion.': 4, 'This curling iron is a backup.  I have been using one just like it for years.  I prefer the marcel handle and this one does the job.': 4, 'I Just love this curling iron. I like the small barrel it has to form small curls. I would recommend.': 4, 'This brush helps smooth out the frizzies in my somewhat naturally curly hair. I have used one for many years.': 4, 'Love this.  My hair never looked so good every day.  Just a few minutes heat brushimg and I have lots of body.\\r\\n\\r\\nOne of my best purchases.': 4, 'nowhere in stores, hard to find, No bristles to get all tangled in your hair. excellent quality.  i love it!.': 4, 'Thank goodness they went back to the longer bristles. Much better! The last one I bought was a disappointment. Love this one.': 4, \"I would recommend this curling iron because it is made with teeth and not bristles. It doesn't get the hair tangled as a result.\": 4, 'This curiling iron is a great product.  The spring holds tight and grips the hair.  It heats up well also.  I would purchase this one again': 4, 'This was a Christmas gift for a friend and I believe it was very much liked and appreciated. Great idea!': 4, \"I've been looking for one of these for awhile.  Works great, heats up fast and curls my hair perfectly, completely happy.\": 4, \"I really liked the big barrel  it's nice and easy to use I use it everyday gets hot real nice\": 4, 'Been looking for this size hair curler for years, never thought to look on <NNP>, but there it was..perfect for my hair.': 4, \"don't klow how they like them yet--hoping they like them really well -  i will let you know what i find out\": 4, \"These are hard to find anymore. Highly recommend this one. The heating is just right compared to weaker ones I've had. Very sturdy!\": 4, 'Hard to find in the store, so I purchased here. Works great and the only thing is it takes a little longer to heat up': 4, 'It is easy to style the hair, easy to use and I love it!!\\r\\nWherever I go I can take it with me cause it is easy to handle': 4, 'They have streamlined the design and made it one of the best curling brushes I have ever used and I have used them for over 15 years.': 4, 'Love this large barrel.  Curls hair nicely and good quality.\\r\\nHeats up quickly, but only bad thing, no auto shut off.': 4, 'Great  I really lile tbis produc\\r\\n i ha  d a hard ome to fime the product that I likedt thank ypu': 4, 'The 3rd time was the charm.  I have two botched attempts when the wrong size iron was sent, both times.  Finally, it is right and I am pleased.': 4, \"Love it.  Couldn't find one like it in town anywhere so I bought this one on line.  It is perfect for long hair.\": 4, 'I have this brush in the larger size as well it works well with my long thin fine hair. Much easier to use than a curling iron.': 4, \"Bought this for my wife. She says it's perfect! Attractive and practical and great for travel. She recommends it highly.\": 4, 'Hard item to find, not available in stores, A necessity for my hair! Updated version even better than old version.': 4, 'It works great and heats up fast.  Makes a good curl.  I am very glad I ordered it.  I would order it again.': 4, 'I could not find a brush iron, let alone this size, anywhere!  It is so much easier to use than a regular curling iron.  I love it!': 4, 'You cannot find these small curling brushes in the stores\\r\\nand I was happy to find them online.  They\\r\\nare exactly what I wanted and work fine.': 4, 'I really like this curling iron.  The 5/8\" size is extremely hard to find and I was glad to find it on line and will order another one for travel.': 4, 'Fast delivery, excelent product, it was what i want, works perfect,, i would recommended for all ages for use this product': 4, 'Great price & works great. Fast delivery. My wife has used this curling iron before & it is just right size barrel for her short hair.': 4, 'product received in a week.and work great. I have a short hair and it take just few mints to style after drying my hair.': 4, 'this barrel size is so hard to find.  This size is not sold in retail stores. I love it and not too expensive.': 4, 'Great Deal!!  WAY CHEAPER THAN THE ONES AT THE STORE. BRAND NEW IN BOX, WORKS LIKE NEW, AND PACKAGED GOOD': 4, 'brush iron on <NNP>.  Had used one years ago and liked it.  Love it every bit as much as previously and the price makes it even better.': 4, 'As many as these brushes as my wife has gone thru in recent years, this is by far the most durable and longest lasting. Better then wal mart': 4, \"Easy to use; doesn't damage my hair, which is a huge plus because my hair is subject breakage.  Thank you.\": 4, \"I had looked everywhere for a large curling brush and finally found this one.\\r\\nIt meets all of my expectations and I'm very happy with it.\": 4, \"My old <NNP> burned out, this one is great, heats up quickly, would definitely buy another.  Please don't discontinue this item!\": 4, 'It is perfect for longer hair.  It gives just enough curl to not look strait.  It is easy to pack for trip as well.': 4, 'Love it.  Could not find this size anywhere in our area.  Not even beauty supply stores.  Can keep my curly perm and straighten it as much as i want.': 4, 'This size is difficult to find just anywhere and it works perfectly, I am very pleased and will be ordering another one for the travel bag soon.': 4, 'AAAA++++ does exactly as advertised love it love it love it... would recommend to anyone light and handy AAA+++ love it': 4, \"It's the perfect size for my kind of hair.  It's not too hot and curls just a little, which is what I want.\": 4, 'My short hair loves this iron.  Does the job well!!  Stays hot and easy to use.  I love having the comb like barrel for ease in curling.': 4, 'This was recommended to me by a friend, I was skeptic but thought to give it a try and love it!': 4, 'Great for my baby fine hair and quick to use!  This is the best because it travels well also .': 4, 'I have had trouble finding this item.  It works great and was shipped quickly!  My mother in law is very happy!': 4, \"Wanted for that additional hair styling. Is perfect and found no faults as some comments shown. Can't complain, It works to my satisfaction.\": 4, 'Got this for a family member and this is just what she wanted, she likes the thin barrel compared to thicker ones.': 4, 'I love the brush irons. I cant believe they are hard to find.  I have the 1 inch and the 1 1/2 inch.  Makes styling my hair so easy.': 4, \"Love this hair tool. I you have long hair it make's great curl's.\\r\\nand heat's up fast. I do so many hair styles with it.\": 4, 'My hair is so thick. Hair holds around the brush without slipping. Best grip from the teeth of the barrel. None compare.': 4, 'Just right for big curls and long hair on this hard to find curler brush!  Easy to use and just the right temperature heat settings too!': 4, 'I have had this product before and have been very happy with it. I just use it to turn the ends of my hair under after blow drying.': 4, 'I am very satified with the product I bought.  It was easy to find on the site and was delivered very fast.': 4, 'NEEDED TO RETURN DUE TO SIZE OF CURLING BRUSH .... TOO BIG FOR SHORT HAIR': 4, \"I purchased for use with my daughter's <NNP> lenses.  They have prevented contamination and have not chapped or irritated skin.\": 4, 'Works really well!!  I use every day and every night and never leaves a residue on my hands when dealing with my lenses.': 4, 'If you wear contacts, this is the best product for washing your hands prior to handling your contacts.': 4, \"It's great. And leave no residue on your fingers which makes it very easy to take contacts out.\": 4, 'Suggested by my ophthalmologist for use with my scleral contact lenses because it leaves no residue on the hands/fingers.': 4, 'Very good, same product as they use at optician': 4, 'Great for contact lenses': 4, 'This soap is a must for handling my contact lenses. Other hand soaps tend to leave a film on my lenses. For me this is a must!': 4, \"Excellent product, very efficient, doesn't contain any additives.\": 4, \"Great soap to use prior to putting contacts in.  Doesn't leave residue on hands or an irritating perfume smell.  On my 2nd bottle.\": 4, 'Love my new hair style.': 4, 'I love this soap but too pricey for the size': 4, 'Smells like a dream. Love it.': 4, 'This is a wonderful soap - smells so good, good lather, rinses squeaky clean. Love it!!': 4, 'love!': 4, 'If you like patchouli you will LOVE this soap.  This actually smells like patchouli.  Very nice soap.': 4, \"I got this for my husband and he loves it.  I don't care for patchouli oil but the soap has other spices in it and it actually smells quite nice.\": 4, 'Smells amazing and sticks with u! My whole bathroom smelled like it when it was new.': 4, \"Leaves a clean, fresh scent that in't overpowering. Not too strong but a nice patchouli scent.\": 4, 'Love It!!!': 4, 'One of my favorite soap smells.  Great for lathering and feeling fresh and clean.': 4, 'Great soap. Exceeded my expectations. Great aroma and rinses will. Very pleased with this product!': 4, 'Husband loved it, strong scent and arrived promptly.': 4, 'Love this soap everyone should try it': 4, \"Wonderfully fragrant. I'll be ordering this again.\": 4, \"This one didn't smell as strong as the sandalwood one by this company, which is my favorite!  I thought I would try it out though.\": 4, 'I love it! The smell is awesome': 4, 'Love this soap. My husband uses it for his beard and it smells great!': 4, 'Thank you for an excellent product.': 4, 'Use this on my face; nothing but pure oils and great aroma!': 4, 'Smells great and lathers good!': 4, 'This is a great product!': 4, 'Love the smell and the smell lasts longer than other soaps. Will buy again.': 4, 'excellent quality': 4, 'I like this and would recommend this to anyone.': 4, 'Love this soap. Lathers good and smells great. I took advice from another buyer to cut in half for longer life. Put other half in <NNP>.': 4, 'Good soap! Light patchouli scent!': 4, 'In heaven - scent is amazing and it is creamy and wonderful.': 4, 'My husband loved the product.': 4, 'beautiful sent of patchouli..not to strong just the right amount of scent .very soft feeling .love this soap': 4, 'I love the odor': 4, 'Love the aroma.': 4, \"Love this soap. Smells exactly like patchouli. Lathers nicely and keeps well. My favorite brand and make of any I've tried.\": 4, 'Mt favorite fragrance is <NNP>, so when I saw it in a soap I had to have it. This soap is wonderful and lasts a long time.': 4, 'Smells good and makes my skin feel clean and soft.': 4, \"Pure Patchouli smell.  That's what I was looking for and that's what I got!  I will buy again...non-drying and leaves a clean, light smell.\": 4, 'Smells great. I will buy again for sure': 4, 'great service and product': 4, 'Smells great - not too heavy. Love patchouli and this soap is great!': 4, 'perfect': 4, 'Smells like patchouli and works like soap. I like it!': 4, 'Great stuff!': 4, 'Great Aroma a must!!': 4, 'Love , Love, Love......and thank you for the fast delievery!!!!!': 4, 'Perfect color to match bath dcor & scented mildly.': 4, \"before I bought I don't think was enough ended up giving gifts I'll be ordering again\": 4, 'such good quality. Love this soap.': 4, 'great, need more': 4, 'Smells delicious and made my skin gloriously soft, the latter of which was a pleasant surprise.': 4, \"I love this soap! The scent is wonderful and relaxing. I have a black bath tub and this soap doesn't leave a ring which is pretty amazing.\": 4, 'Smells great!!!!': 4, 'Thank you!': 4, 'feel great after taking a shower with the plantlife patchouli soap.': 4, 'Good soap, weak scent': 4, 'Quality patchouli soap.': 4, 'smells wonderful.  from another customer,  she cuts the bar in half.  I think I will try this.  will order again.': 4, 'this stuff is awesome...will buy again': 4, 'Purchased for my friend as a Christmas stocking stuffer and she loves it.': 4, 'I love this soap. Simple as that. Great product and fast delivery.': 4, \"Love the soap.  This is the second time I've ordered it.  Fast shipping.\": 4, 'I use this soap in the exfoliating mesh soap saver pouch and love it!!!  I always loved this scent anyway.\\r\\nIt is so great in the shower!!!': 4, 'Wonderful!': 4, 'Wonderful, I love it!': 4, \"Best smelling soap ever. I always have to keep\\r\\na bar on hand. You won't regret buying this! <NNP> is the best.\": 4, \"I love the clean smell of this soap. Nice facial cleanser and it doesn't leave a residue. I would purchase this again.\": 4, 'I love this smell and I will buy more! Must get this your skin feel so soft and it smells amazing!': 4, 'Great soap..love it I highly recommend it to anyone looking for something different. Great price, great product. Two thumbs up...<NNP>': 4, 'Product is just as advertised...I received it within 1 week of ordering.  The scent is very pleasant and it fills my whole bathroom.': 4, 'Lathers well and smell is what I was looking for. I will buy this again, perhaps more than one next time.': 4, 'GOOD AT ALL  FATA  FATI': 4, \"My daughter in law remembers this scent from her grandmother's house.  I was pleased to find something she really wanted.\": 4, 'I would recommend this herbal soap to anyone! Loved the <NNP>!!! Will be buying more!! Great packaging also! Great gift idea!': 4, 'I wanted to know how this soap smelled so i ordered it. It has a very earthy smell and i must say i really do enjoy it alot.': 4, 'I am an old hippy who loves all things patchouli.  I even have a bar of this tucked in my dresser drawers!!': 4, \"Smells amazing. Doesn't have a drying effect on my skin. Is free of chemicals and toxins. What's not to love?? Great product.\": 4, 'A great sense for any room.  You just shower once and it is like unleasing a sense of calmness.  Everyone will comment on the sense.': 4, 'I have been buying this soap for many years now.  Love the fragrance....not too overwhelming, yet it lasts a long time.': 4, 'the bar is so big i cut in to 2 pieces. my skin feels like silk and smells wonderful.  love love this product.': 4, 'I use this moisturizer and I love it. It works wonders for my skin and it smells amazing as well.': 4, 'This soap is a great value for the money very fragrant and great for the skin.': 4, 'this is the first time that i have ordered from <NNP> and i will continue to order from them. love their products!': 4, 'This was great for getting my nail polish back to its regular consistency and cleaning up the top of the bottle.': 4, 'Does exactly what it claims, bottle lasts a long time.  Useful for keeping proper consistency of your nail polish.': 4, 'Really nice thinner for a nice price': 4, 'Wife likes it.': 4, 'This product was EXCELLENT and I received it earlier than expected.': 4, 'Money well spent. Helped me save money on my drying nail polish ': 4, 'It does what it says it does.  My favorite nail polishes are back': 4, 'It works well but I notice that now the nail polish takes for ever to get dry.  I guess that is normal': 4, 'extends the life of nailpolish': 4, 'Great price for a great size bottle.  Hard to find.  Happy I looked on line!': 4, 'Great product and good price. Will order again': 4, 'Very good': 4, 'I use it not only for my nail polish.  My liquid whiteout lasts forever because of this product.': 4, 'This is a good product.  Just a few drops thins older nail polish to a usable condition again.  Big bottle will last a long, long time.': 4, 'Just a drop or two in an old bottle of nail polish renewed my favorite color!': 4, 'exelente producto': 4, 'love it ..works good ..came faster than I expected': 4, 'Save me a lot of trouble trying to use some old polish that I had.': 4, 'Actually works! Little goes far ': 4, 'Works great!  I use a couple drops at a time and it thinned my ancient black nail polish to a smooth liquid again.': 4, 'Awesome product, no more throwing out semi thickened nail polish.  Thin it down to as new condition.': 4, 'Works as expected': 4, 'Works as expected.  Now old polish is new again!': 4, 'Works like I wanted.  Why cant we get this in the store?': 4, 'Good product.': 4, 'Does as it says. Good product.': 4, 'Has brought all my older polishes back to life.': 4, \"Have used this forever great if you haven't used your polish in a while thins it just enought\": 4, 'This stuff really helps extend the life of a bottle of nail polish.  Very happy with its performance.': 4, 'Perfect.. and delivery very fast': 4, 'TURED OLD CLUMPY <NNP> IN TO USEABLE <NNP> AGAIN..GOOD STUFF': 4, \"Can't find in local stores, awesome product\": 4, 'Worked great better than polish remover': 4, 'I bought a great nail polish but it got way thick,sticky, and stringy after two uses. this thinner saved it from the trash': 4, 'Product works great. I put in old polish and it brought it back to life and I am able to use it again.': 4, 'its handy': 4, 'a life saver for my favorite polishes that have been around awhile and gotten too thick to brush smoothly.': 4, \"Does what it's supposed to.\": 4, 'My problem solver': 4, 'Product is as described.  Works great to thin polish.': 4, 'Worked perfectly.  This will be great to extend the life of my polish.': 4, 'Works well and saves a few bottles of pretty nail polish.': 4, 'great quality, price & shipping!': 4, 'inexpensive and does the job': 4, \"Works great a few drops gives old nail polish new life.  Don't throw away polish that is thick just get this works great.\": 4, 'I really like you dissolve well .me charm': 4, 'Great pricing. Great product.': 4, 'GOOD': 4, 'glass bottle received not broken.': 4, 'This is a must have if you are a nail polish person, I have so many nail polishes and once they get thick and gross I put this in it and like new.': 4, 'My nail polish is now perfect.': 4, 'Love this stuff': 4, 'Works well': 4, 'use to thin out correction fluid and it works great.': 4, 'Extends life of nail polish for sure!': 4, 'Great product, you can now use you thick polish....lol': 4, 'It did what it was supossed to do.': 4, 'Alot of thinner!!!!! Works beautifully!!!!': 4, 'Just what i was looking for': 4, 'Does what it is supposed to do.': 4, 'Awesome product.': 4, 'Got the job done.  Requires an eye dropper.': 4, 'Great product, works very well, make sure to have a drop dispenser to use when mixing with <NNP> or you will spill more than you want.': 4, 'Great. Does the job fine. Would be nice if it came with a funnel or 1ml syringe.': 4, 'It does the job! Nail polish lasts much longer! Instant results!': 4, 'Thins out old polish so you can use it again.  Very pleased with the results, only a couple of drops helps.': 4, 'Does what it says. About 15 of my nail polishes are now usable again.': 4, 'Works like a charm.': 4, 'Gets my brushes clean and thins out my super thick polishes! Amazing price, too!': 4, 'Saved a few bottles of nail polish that I would have had to toss.': 4, 'Worked like a charm!': 4, 'Total miracle nail polish saver!!!..... i used the same cap to insert the liquid in the nail polish... this stuff WORKS!!!!!!!!!': 4, 'I could not do nail art without this stuff. It gives you so much control over your polishes and makes them last forever!': 4, \"More than I'll ever need.  Just wish it had an applicator of some sort.\": 4, 'thank you': 4, \"Awesome stuff!!  Works much, much, much better than nail polish remover.  Very strong smelling, so make sure you're near a window or in a big room.\": 4, \"The smell is really strong but it does what it's supposed to do and really fast shipping\": 4, \"This stuff is great. It's hard to pour into your polish - might need a funnel or something, but it definitely thins it out\": 4, 'love this!  helps the nail polish dry quicker.': 4, 'good.': 4, \"Saved my fave nail polish that I couldn't find anymore!!\": 4, 'It is a wonderful iron brush but not what I wanted.  This if for long hair and I have short hair.': 1, 'Fragrance not up to par sorry': 1, 'This was to sticky': 1, 'really strong scent, i would say this is for men only. would not by for myself but my husband likes it.': 1, 'More than half of it leaked all over the box before it arrived': 1, \"Didn't really work. Maybe my polishes were too far gone?\": 1, \"So far, I haven't found any nail polish I use that this thins. Very disappointed about its effects on a gloppy bottles of <NNP> and <NNP>.\": 1, 'dont do anything': 1, 'This product is for oily skin too harsh for regular skin. Your face look like a ghost just white dry and dull.': 1, \"Didn't really do anything  for my hands. I put it on every night and didn't see anything  positive  come out of it. But diid smell like it would....\": 1, \"It's so heavy cream\": 1, \"If you're face is wet it doesn't work.\": 1, 'Probably best as a sunscreen. Has a residue.': 1, 'The orange scent is much too strong. Goes on a little chalky.': 1, \"Not very smooth & hard to get rubbed in.  I wear foundation over & does not go on very well.  Love the organic, but probably won't buy again.\": 1, 'This lotion is next to impossible to squeeze out of the bottle.  Need VERY strong hands, therefore, not using it & will probably toss it.\\r\\n<NNP>': 1, \"I've been using it religiously but it seems to have gotten very chalky and takes ages to absorb into my skin.\": 1, \"It's Not the best facial product. It is very thick so I ended up using it only for my hands.\": 1, \"I didn't like this at all. They must have changed their formula. It's almost pasty. Doesn't absorb at all. :(\": 1, 'I really liked the old formula for this product but the new one it is not as good. It is thick and leaves a white film on your face.': 1, \"It's not smooth going on at all. The original one with out the sunscreen is sooooo much better. Would not buy again.\": 1, 'Love this product so much... very close to expiration date. Only negative FYI about my product.': 1, 'Seriously irritated my skin': 1, \"pretty good soap, mild scent---I give it a B-, pretty good lather. Lasts a normal length of time if you don't let it sit in water.\": 2, 'I love the odor, but used alone is too drying.  I use a moisture soap and after rinsing I then use the herbal.': 2, 'wish it had lasted longer... no matter how hard I tried to keep the bar dry between showers it was gone in a flash!': 2, 'Does the job to keep your nail polishes fresh and ready for use.': 2, \"This is a great product I just don't know if its worth buying online. Product is fine.\": 2, 'it kinda works but not on older nail polishes': 2, 'Not the best.': 2, 'Spills to the side when you pour it due to its opening.': 2, 'I only tried it once and it did not thin the polish - maybe it was too late for this polish.': 2, 'thought it would thin better..': 2, 'It works, but the odor it has is very strong, make sure to use in a well ventilated room.': 2, \"this mustard's write up is much better than the actual thing.  Maybe my pain level is unreachable with just a rub.\": 2, 'At first it stung a little, but after using for a few days it seemed to have gotten better': 2, 'Kind of drying for my skin, also leAves a white residue. It smells really good though!': 2, 'I love this and have been using the face wash and toner for years. The only complaint is that the the lotion is a bit thick and white.': 2, \"I really like this product...until I get to the last quarter of the bottle. Then it's very watery\": 2, \"Didn't work for me, didn't feel hydrating enough.\": 2, 'Super thick': 2, 'The lotion goes on a little thick, but perhaps that is because of the SPF 15. Overall, good product and does not cause my skin to break out.': 2, '<NNP> did not blend well into my skin .......  I have dry skin but i felt it was too greasy for me': 2, 'Not as good as <NNP>, but good value for the size and price.': 2, 'Stains the tub, but is a good product.': 2, \"I just don't particularly feel anything different when using the mustard bath.  Different things work for different people.  Yay for individuality!\": 2, \"Didn't do what it says. Would not buy again.\": 2, 'The problem is having to rinse it off in the shower afterwards, though it feels good to soak in.  A bit messy, too.': 2, 'Leaves buildup on bottom of tub..beware also makes it slippery': 2, 'Did not care for the smell of this.': 2, 'Love the way it smells, but seems to dry my skin. Perhaps due to living in this area with dry cold weather. Glad I tried it.': 2, 'The soap is good. Im surprised by its aroma and quality but the 3.00 shipping kind of steers me away from the product.': 2, 'unfortunately there is no lovely odor to this item': 2, 'fragrant is gone after 2 hours.': 2, 'it smells like light lavender and it mists your face. but you may as well just spray water because there are no other effects': 2}\n",
            "{'After only a couple uses the barrel disconnected from the handle and moved freely around.  Basically a waste of money': 0, 'Not happy!!!! Second time I tried to use it a row of the brush came out!  Would not recommend this prouduct': 0, 'Took it from the package plugged it in but it never worked. Disappointing..Excited to find one this size but it never got hot.': 0, 'This product is deffective.  The end turns and the bristles will come out and I would really like to know how to send it back and get a replacement.': 0, 'I am sorry I bought this product. Takes 15 minutes to heat up. Who has that kind of time? Save your money.': 0, \"It doesn't get hot enough and tangles in even short hair. There is no curl effect as it does not get hot.\": 0, 'It fell apart as soon as I took it out of the box. I could not use it.  I returned it.': 0, 'Very low heat at max, not effective for my short thick hair.  Tangles easily in hair. I should have returned it': 0, 'This was very cheap feeling, did not heat up very hot.  It did nothing on my coarse hair.  Returned it immediately.': 0, 'I could not use this product as it is made for the <NNP> market and not compatible to use in <NNP> power points.': 0, \"I just got this and I went to use it and it wouldn't heat! What a bummer!!!!! I used it <NNP> time.\": 0, 'Fell apart 2nd use leaving element broken and exposed.\\r\\nToo lightweight to affectively pull through hair\\r\\nThank goodness I was able to get a refund': 0, \"I have had a couple of these irons but this one does not perform well, it does not get very hot, luke warm, so i'm not using it...Disappointed\": 0, \"Really doesn't do the job.  Poor quality and inneffective.  The barrel of the brush barely gets warm, let alone hot enough to create a curl.\": 0, \"This curling iron doesn't get hot enough. Maybe if you needed to curl a child with very thin hair it would be OK. I would not recommend it to anyone.\": 0, \"The curling iron doesn't get hot enough to curl hair, it leaves hair straight and limp so I rate it as worthless!\": 0, 'The product is fine I just need you to get back the 1-1/2 inch barrel. does <NNP> make this any longer?': 0, 'The product was old!': 0, 'Yuck': 0, 'This smells like clay or mud, I had to wash it off with better soap': 0, 'Very poor quality': 0, 'Smelled great when it arrived in packaging. Used in shower once and smelled great. Second shower use I notice no patchouli scent at all.': 0, 'Not what I remembered': 0, 'No scent. If you bought this for the patchouli scent. Prepare to be disappointed': 0, \"I usually use <NNP> soap...I tried this one: it's waxy and has the faintest scent of earthiness...going back to <NNP>.\": 0, 'If your expecting the scent of <NNP> you will be disappointed nice soap seems very gentle to the skin but I wish it smelled better.': 0, \"This didn't really work on my polishes. It just stayed in there.\": 0, \"I use <NNP> pearl polish. Adding this is like adding water. I've ruined the whole polish left in the bottle I had.\": 0, 'The bottle was broken!!': 0, \"I've been using this product religiously for over a month and see absolutely no change. Big disappointment!\": 0, \"This didn't work at all and felt really gross on my face. It contributed to oils on my face and didn't make me feel clean at all.\": 0, 'Awful, its like thick  paste , does not absorb nicely on face. Would not recommend.': 0, \"Too thick to dispense easily and doesn't rub in well. No visible results.\": 0, 'Turns your face white!': 0, 'This is not the same, do not buy!': 0, 'very thick does not blend well': 0, 'The bottle developed a huge crack within a couple months. I did not drop it or mishandle it in any way.': 0, \"This product isn't available for return. The seal was broken. The mixture contains some debris.\": 0, 'It was flat and old': 0, 'This soap had no fragrance whatsoever.  Love Bergamot but was very disappointed in this soap.': 0, 'Expected mint.  Got unflavored.  Returned.': 3, \"I like Oral-B floss. It's better than the diffrence floss\": 3, \"Do they still make this floss?  It's my fave - strong yet thin.\": 3, 'Recommended by our dentist and they have a nice grip and just right head.': 3, 'This is the standard toothbrush my dentist (and many others) recommend. Compact head, soft bristles. The price is just right.': 3, \"There's not much to say here - I like these toothbrushes.  I've been using them for years. They are just right for me.\": 3, 'Prefer unflavored.': 3, 'Love the flex of these, and the ability to deep clean': 3, 'Contents fine, package somewhat beat up.': 3, 'Cleans well.': 3, \"Does the job - doesn't seem to be in the stores anymore.\": 3, 'Floss is great. It is strong and does a great job cleaning all the nooks and crannies. Well worth the money.': 3, 'I only had to apply twice.': 3, 'Was a bit messy to use. Could use a tip on it to apply. Seemed to help get rid of the build up tho,': 3, 'very good moisture for chronic use.': 3, 'I bought this to use on my stomach for itching during my pregnancy. It works great! It did however arrive with a cracked lid :(': 3, \"<NNP> is a very good face creme. I really don'tknow what I can say about this except it does a vey nice job.\": 3, 'This product removes dry skin spots and makes skin very smooth when used consistently. I certainly would recommend this product.': 3, 'Great item-heats up fast and has 2 settings.\\r\\n\\r\\nPerfect for fast touch ups!': 3, 'Takes a while took warm up but works great!': 3, 'This curling iron is poor quality. Teeth slide out.': 3, 'Works well. Long lasting.': 3, 'Large curling brushes are hard to find. Love it,': 3, \"Takes it a bit to heat up but it's perfect for curling the end of my hair.\": 3, \"Exactly what I wanted. Second one I've had. Only complaint is that the plastic tip is too hot to touch. Should be able to hold tip to secure curl.\": 3, 'good': 4, 'Pleased with item.': 3, 'Have  used this for years  works great  around  your face. Great for short  hair.': 3, 'Great for short hair or for curling closer to the scalp.  The \"bristles\" are plastic and about 3/16\".': 3, 'Good product..would like automatic turn off feature:(': 3, 'It is my favorite curling iron except the fact that it does not always last very long.  The inside wlll strip out over tme and then the barrel spins.': 3, 'Hard to find this size, so am very happy to have it.': 3, 'works good': 3, 'Good for short hair.  Only 1/2\"  brush iron I could find.': 3, 'Great price fast shipping. Spring seams to weaken after about 4 months.': 3, 'Had a hard time finding the size I wanted but found it on <NNP>.  It works great....': 3, 'As expected.': 3, 'Good product for the price. Sturdy & great heating element!': 3, 'Seem to be just fine': 3, 'Easy to use for short hair': 3, 'Just what I was looking for': 3, 'perfect size for my short hair. works well': 3, 'Slower to heat up then I would like but this size is difficult to find for those of us with very short hair.': 3, 'Perfect': 3, 'A very good product even if I think that the pins are too small': 3, 'Exactly what I wanted. Good quality so far and good price.': 3, 'I like it': 3, 'This brush iron turned out to not be the perfect solution for my wavy/curly hair. But I gave it to a friend with straighter hair and she loves it!': 3, 'It is a good product. Bought as a gift and they really liked it!': 3, 'The only thing I would mention is that on high, it gets extremely hot...hotter than any other appliance I have had.': 3, 'Works great.': 4, \"Very well made but doesn't seem to get that hot.\": 3, 'Very happy with this curling iron. Perfect size wand for med short hair!!': 3, 'Takes too long to get to a hot temperature but once it warms up, it works well.': 3, 'the brush was to small but still worked great': 3, 'Heats up quickey but the tip of the barrel gets to hot make ing it uncomfortable.': 3, 'This item has a good grip on the hair.  the only thing, it heats too slowly.': 3, 'Does the job.  I had to put a rubber band around the end of the handle because the little combs keep coming out.  That keeps them in and works fine.': 3, 'Works great!!': 3, 'Works Great': 3, 'met my expectations': 3, 'works': 3, 'Love it!': 4, 'Works great however, I was trying to find a 3/8\" barrel but this will do just fine.': 3, 'It is OK I would like it a little hotter but works fine . It is definitely hotter than my old one and grips the hair nicely': 3, \"This item is ok but not great.  I have used it several times.  It's fine for rush curling.  The seller is good in getting this to you.\": 3, \"These are hard to find. A must have when I curl my hair. Light weight and easy to use. Get's the job done\": 3, 'Works great for short straight hair that needs curl or body.  It does  not slip off the roller.  Works well for me.': 3, \"This iron seems to work really well. It's too bad my hair is thin, long, and straight. The curls don't hold very well.\": 3, 'Wish there was a cover on the whole lifter not just on the end.  This gets hot and I have burned my ears.  Would pay extra for the protection.': 3, 'Brush is very nice, good large diameter for larger curls. I like the clean white color. Will order another in the 1/2 inch size.': 3, 'It\\'s difficult to find a 5/8\" curling brush, and this one is very nice. It has a good grip for your hand.': 3, 'I really like this styling tool and have used it for years however I do think I liked the older version better. Still cannot be without this.': 3, 'Well honestly speaking I did not find it to be exactly I saw it on the commercial, but it is a good material.it is worth spending money on it.': 3, 'The product received is like the one described and works properly for its use. My wife is very happy with it': 3, 'I enjoy using this brush.  It was just what I wanted.': 3, 'I was glad I found these curlers since i could not find this size in local stores. The are the right size for my hair.': 3, 'I love this.  The bristles help \"grab\" the hair to curl it.  The only negative thing is that on/off button is really touchy.': 3, \"I have long thick hair and the teeth aren't long enough. Too stubby so I can't catch all my hair when I brush it out.\": 3, 'I would have ordered a size smaller but I like the way it heats up fast. I will order the 1 inch next.': 3, 'yes, it would be recommended to anyone\\r\\nbecause we like it a lot and we both use it\\r\\ni chose it because had one before like this': 3, 'The price was right and I could not find this size available locally.  Will order again from this site if need arises.': 3, 'I like the brush iron, the only problem is the tip of the barrel gets really hot so be careful.': 3, 'It is working OK for me. I do like that I can remove the spokes and clean the barrell. It does heat up quite quickly': 3, 'works very well. holding tip is a little small. heats up pretty fast. makes a straighter curl. gets perfect hot': 3, 'This item was purchased by my wife she liked enough to purchase 2 more one for travel use and one for the country house': 3, 'You have to follow the instructions.': 3, 'Great product': 4, 'made my hair very manageable now. which give me a very sleek look.plus add styling gel and you got a great look': 3, \"Seems a bit overpriced.  I'd like a product like this but at a bargain.  After all, this <NNP>.\": 3, \"Love it!!!!!\\r\\nNice light earthy patchouli smell!!#!#!\\r\\nBut not too overwhelming......\\r\\n<NNP>n't wait  to try some other scents......\\r\\nPEACE.\": 3, 'The fragrance is great, but not lasting.  It permeates the bathroom for awhile, without a strong smell.  The bar lathers up nicely, also.': 3, 'Good': 4, 'A bit stronger scent than anticipated. Still a good hippie smell.': 3, \"<NNP> great, didn't last long.  About a week and a half and the whole bar was gone.\": 3, 'Smells like the 60s': 3, 'I like this soap, smells exactly the way I expected. Nice size bar. No problem about it. 100% happy': 3, 'Great aroma and lather!': 3, \"It stays on ya after ,using <NNP>,It;s also cause it's a powerful oil,but the soap is awesome!!I'll def prolly order another soon:)\": 3, 'At least one of these items I ordered (<NNP>) was something I can say smelt like <NNP> and was nice on the skin.': 3, 'It does what intended and shipped when I was told it would!': 3, 'This product performs as promised. It works perfectly. It is also a good amount of product for the cost. It will likely last me a good long time.': 3, 'Thins out my polish well.': 3, 'I like this nail polish thinner.  Only have to use very little to thin out the nail polisher.': 3, 'Good, but save a plastic dropper/glass pipette to get the liquid out and into your nail polish.': 3, 'works great bringing nail polish back to life': 3, \"Works well but the cap came broken. I managed to crazy glue it back together. Amazingly the liquid didn't leak out.\": 3, \"I'm sure there are more expensive and better ones- but it does the job and I am very happy!\": 3, 'A life saver, keeps your nailpolishes from drying out and getting thick ': 3, 'Nail polish will never get dried out again. This works great': 3, 'It works great! Came in the mail quick too!': 3, 'Does the job! Would be better with a dropper for easy use. Consider please.': 3, 'Works!': 4, 'Philips/Norelco recommends replacing your shaver heads annually. These are priced much better than their own site, and the quality is the same.': 4, 'This item was just what I needed.  Perfect turnaround time.  No problems with the order.  Will need more in future.': 4, 'Every once in a while, you just have to replace the head on your electric razor.  This product is a good value.': 4, 'this was a great product because we could not find this product around our town anywhere this was a good product for the excellent price': 4, 'great replacement for worn out heads .now i can shave quickly without having to press hard on the razor.just what i ordered.': 4, 'No complains here.  Got them in time, and placing them on the razor is fairly straightforward.  Works like a charm.': 4, 'Good price, clean shave, no pain. My man was so happy after he replaced the heads on his shaver.  Was a good buy at a reasonable price.': 4, \"I am very happy with the blades.  The fit my shaver perfectly.  This was a good value, and I won't wait as long to replace the blades next time.\": 4, 'Came on time, was what it was advertised to do, the correct replacement part! Thanks for the item.  Price was good as well.': 4, 'I received my purchase in three days and the item was the exact replacement I was looking for.  I would order again if needed.': 4, 'Received in a timely manner and make razor cut like new razor but at less cost.  Got a newer model head that replaced what was noted on my razor.': 4, 'Nice to be able to find replacement heads Thanks <NNP>.': 4, 'Well worth the price, it was like getting a whole new electric razor at half the cost.  I get a smooth shave once again.': 4, \"Just what my hubby needed.  Couldn't even find the right one at <NNP> - and they were more expensive.  Thanks\": 4, 'It works great!  I was happy with what I got and the product is working just like it should. Thanks': 4, 'In getting new blades every 6 months was the best thing to happens, keeps the razor sharp amd it keeps my shave close.  Thanks you <NNP>': 4, 'It is a good product. Good quality. And for people who need it, I recommend it 100%. In addition, this a good price.': 4, 'received right away. fit good and have had to trouble with it. the price was better than buying it at the stores.': 4, 'Arrived as scheduled. Appear to be genuine <NNP> and work as expected. I have been changing them about once a year and it does make a difference.': 4, 'Got this set of blades for my old electric razor and they perform better than the ones that came with the razor when it was new. Great product.': 4, 'It was much easier buying the replacement heads online than having to troop from one store to the next looking for them.': 4, 'This is our second purchase and have had no problems.  Very happy with Service.': 4, 'Very satisfactory, quick seviccenno problem, but fail to let me know the <NNP> on my gift card!': 4, 'These blades worked as good as the original blades.  They were not cheap imitation blad,.I bought those before.': 4, 'I purchased 2 shaver heads from <NNP>. I immediately put both shaver heads into use in my 2 shavers.  My shave quality improved right away.': 4, 'Turns out I saved time and money by replacing the blades on my electric shaver, rather than buying a new one.': 4, 'You made it easy to order my blades online and it came in a timely fashion.': 4, \"Pretty much exactly what I expected. This is the first replacement head I've bought and I'm glad I did!  :-)\": 4, \"I tried these replacement blades in my new razor.  They seem to be identical to those that came with the razor, which means they're excellent.\": 4, 'It came in a partially dented box.  The item itself was in perfect condition.  Works perfectly.': 4, 'Comprei esse repplacement para o meu barbeador <NNP> e agora ele est como um novo. tima opo para renovar o barbeador sem precisar comprar um novo.': 4, 'It is just what I ordered.\\r\\nWorked as expected.\\r\\nWill order again when I have the need.': 4, 'This was a very worth while purchase. My <NNP> was not cutting properly and by replacing the shaver head it works as good as new.': 4, 'Great item.  Works just like brand new razor.  VERY easy to install.  Thanks!': 4, 'This is an easy repair to do, and gives great results.  My beard is once again easy to clean and stays smoother with the new blades.': 4, \"I can't say much. The replacement heads are working great. The shipment was fast and the price was good. What else a customer needs?\": 4, 'The replacement parts worked perfectly and I expect to get years of trouble free service, thank you.': 4, 'New blades are great.  Hard to remember but I think the shaver works better now than when new.': 4, 'These  replacement blades has given my <NNP> new life!  My shave his so much faster and smoother.\\r\\nThis is well worth the money.': 4, 'I would order from this seller again.  Service was great, as stated, securely wrapped and recieved sooner than expected.': 4, 'I am very happy with the product, price and quality! I also think that you guys did a great job on the shipping , very prompt!': 4, 'very satisfied with product.  It took longer for us to get it than we expected. It was about the 4th day after expected date.': 4, 'I replaced the heads on my shaver with these and it works better now than it did when it was brand new.  I get a much closer shave now.': 4, \"I've used this product for many many years.  Completely satisfied.\": 4, 'My last set lasted six years before the metal in the heads got so thin that holes started developing. The cutting blades remained sharp.': 4, 'Always a great shave, easy to clean. This is a set of replacement heads, actually my second purchase, as the <NNP> is a great <NNP>.': 4, 'This is the only product for the <NNP> (+) plus, but the box only says <NNP>': 4, \"Arrived quickly, and item is exactly as expected.  Can't ask for more, can I?  Would definitely order again from the same company.\": 4, 'Quick delivery of product and performance I expected from replacement heads for my <NNP> shaver replacement heads.': 4, 'Product was priced right and has worked effectively to give me a much closer shave.': 4, 'Flex heads are super & give a close shave !': 4, 'Product was as advertised.  Worked with no problems.  Came in a decent amount of time.': 4, 'I needed blades for 2 different razors and both sets came quickly and were the right ones. Thank you.': 4, '<NNP> has replaced the heads on his <NNP> a number of times and it works like brand new!': 4, \"It's like I bought a new razor, at a fraction of the price.  Great deal.\": 4, 'My husband is very pleased with the replacement shaver heads as he is with the shaver itelf.': 4, '<NNP> came to my house within the time span i was promised and also was cheaper than if i would have gone to the store for it!': 4, 'I repleced the original cutters and the razor now cuts better than when I bought it.': 4, 'The product is precisely what I needed; service was what I hoped for; experience is far better than having to go to W-M or some other store. Thanks!': 4, 'The item I bought meet my expectations in regards to quality and delivery time': 4, 'This was the only place I could find these blades.  The price was good and the turnaround time was excellent.': 4, 'product arrived in a timly manor, good construction, enjoying close shaves.\\r\\n\\r\\nrobert schulkers': 4, \"nice razor does the job plus it's quieter and lighter than my old norelco thats 10 years old and still working.\": 4, 'I would like to say, thanks for the excelent servicie of sending and and the product. <NNP>.': 4, 'Yes, it is a very close shave and no one paid me to say this.': 4, 'I have used this product for many years. It extends the life of the cutting blades and gives a closer shave.': 4, 'It does make a difference to use the lubricant once a month, it helps the razor to keep the smoothness in every shave.': 4, 'Great Item, Price is fair, and it last for a long time if you know how to use it. will recomend it.': 4, 'Very good product. With continuous use this product helps the cutters and blades give a smooth shave.': 4, 'This is a very good product.  It helps prolong the life of the electric razor.': 4, 'great product': 4, 'Love it.  I use it all the time.': 4, \"If you don't have the cleaning station, this is a must for your norelco shaver. This helps keep your razor running like new. The price is fair.\": 4, 'i use it after i have used my shaver and is good for it and the price is ok for it': 4, 'Great stuff to keep the razor working well.\\r\\nWould recommend this to anyone that uses\\r\\nan electric razor on a regular basis.': 4, 'Easy to use aerosol spray. I would buy it again.\\r\\n. . . . . . . . . .': 4, 'This is a good razor lubricant that I have used for years.  It is also a good fine lubricant for many other items.': 4, 'Works as advertised.  It does not leave a greasy residue, as have others I have tried in the past.': 4, 'This product works extremely well and I would recommend it to anyone purchasing an electric or battery operated razor': 4, 'To keep your razor operating like new, use the Norelco AL80 Lubricant. I recommend this product for all brands of razors.': 4, 'Been using this for years...works well and the price is close to half of that in local stores.': 4, \"Love this product!!!!! It is super light, but it actually moisturizes really well. It is the only moisturizer that doesn't cause breakouts.\": 4, 'great product and a good price less expensive than in the stores': 4, 'Perfect moisturizer for oily but sensitive skin.  Works great for acne prone skin also.': 4, 'Best stuff on the market': 4, 'Nice moisturizer that has no grease!  Natural ingredients that are good for my skin!': 4, 'recommended to re leave razor burn and eczema. Its great worked fast': 4, 'GF Loves it!': 4, 'Magic': 4, \"I have oily skin. This is the best face lotion I've ever used.\": 4, 'Lightweight but effective, good for oily skin': 4, 'I am pleased with the results of his product, and I will continue to reorder it.': 4, 'Excellent products': 4, \"Love this moisturizer! I'm 50-something and have used it for 15+ years. It's light, absorbs quickly, and doesn't cause breakouts.\": 4, 'Happy with this product. Great moisturizer.': 4, 'love this gel.': 4, \"I have have been using derma e pycnogenol gel for years. I don't plan to stop. It keeps my face hydrated without feeling sticky.\": 4, 'I cannot use creams or oils on my face they are too heavy.  This is the only moisturizer I have used for the last 10 years.  I really like it.': 4, 'fast shipping, exactly what I nedeed': 4, 'This is the BEST EVER floss for tightly packed teeth. But <NNP> - PLEASE provide a smaller quantity option. This would be a great <NNP>-ON item!!!': 4, \"My teeth are very close together.  Oral-B Essential Floss is the only floss that doesn't shred or. break wheb I floss.\": 4, 'Best floss, hands down.': 4, 'I like this floss because most floss is too thick': 4, 'Great floss.': 4, 'My teeth are close together so this works very well for me.': 4, 'nice': 4, 'This is a good tooth brush. This is the same tooth brush my dentist gives me after my check up.': 4, 'Thin and strong enough for tight spaces between teeth -- anything else just shreds.': 4, 'hard to find in stores, this is what I like, been ordering this for years.': 4, 'The floss is just the right thickness so it works very well.': 4, \"good stuff, thinnest floss I've found that does the job\\r\\ndelivery was as promised\": 4, 'Why buy floss every month for triple the price. This is a great deal and with free shipping its a no brainer. We will have floss for years!': 4, 'great!!!': 4, 'Excelente': 4, \"Better than most I've tried.\": 4, 'Love the brush. Great for large teeth.': 4, \"these are the best toothbrushes for the hard brusher ... can't hurt your gums ... love it - hard to get in the store\": 4, \"just the right size for a lady who doesn't have a big mouth!  LOL!  it's true.  like these a lot.\": 4, 'These are just like the ones I have bought in the past from a local store, but these are much less expensive.  Perfect all-around toothbrush.': 4, 'The product matches the description.': 4, 'Thanks for the quick service, and I will be back when I start to run low.': 4, 'I bought this a couple of days ago, and I got the full 6 pack.': 4, 'Great product.  We have been using it for many years and we prefer this to any other dental floss type.': 4, 'This is the best floss!!!': 4, 'Love it': 4, \"This is my favorite floss and it seems to have been discontinued by the manufacturer. I'm happy to have gotten this.\": 4, 'Order came as expected! Great product at a great price, especially since my Local <NNP> no longer carries it.': 4, \"My favorite floss that is kind of hard to find in stores... That said, it's definitely not my husband's favorite.\": 4, 'The best floss- shipped early!': 4, 'This is the BEST floss, according to my husband!': 4, 'This is the only floss that works for me, as my teeth are very close together.': 4, 'Best Floss ever. My teeth get cleaned where no toothbrush can go. I feel a difference to other types of floss. This feels cleaner.': 4, 'This is the best floss ever!': 4, 'everything OK': 4, 'Perfect for teeth with tight margins.  Hard to find product.': 4, 'ok': 4, 'Exactly the item I wanted in bulk. Pkg arrived very quickly.': 4, \"I was unable to purchase this item in any drug store and it's my favorite. Happy to find it.\": 4, 'Simply the best.': 4, 'Lasts forever....nice rough fibers to scrape off plaque !!!...I hate the slippery smooth floss types..': 4, 'Cheaper then CVS- I use this type of floss for years.': 4, 'Works well.': 4, 'Best floss ever!': 4, \"Love this floss. The best I've ever used!\": 4, 'This is my favorite floss.  I used to buy it at <NNP>, but it disappeared from their shelves.  Not sure why.  Thankfully I can purchase it here.': 4, 'Very fond of this floss!  As with other Oral-B products, it performs its function well.': 4, 'Love this stuff! <NNP> the best, and well worth the money.': 4, 'Excellent!!!': 4, 'I love this dental floss, it is rough so it scrubs the side of the teeth as you are flossing.': 4, \"This is the best floss I've ever used. It has texture, so it actually scrapes stuff off. I have no idea why it's so hard to find in stores.\": 4, 'As expected, great deal.': 4, 'Product was just what was ordered. This is the only floss that I use.': 4, \"I can't buy this floss at any major drug store but it always seems to be available on <NNP>.  A great buy!\": 4, 'good product-quick delivery': 4, 'Great product. Will purchase again.': 4, 'My teeth are very close together,this is the only one that I have tried that does not get caught in my teeth :)': 4, 'Best floss for me, absolutely love it and think it is great especially knowing it is made in <NNP>.  :)': 4, 'Excellent!': 4, 'Perfect floss for keeping teeth clean between checkups.  Marked for easy cuts.  Have been using for a couple of years and plan to continue.': 4, 'Grear product!': 4, 'Exactly what I wanted.': 4, 'This is a revolution in flossing for those who have tight contacts. The floss is stretched as you pull it so that it thins out as it goes through.': 4, 'My favorite floss.  Hard to find in our area.\\r\\nSafe and quick delivery.': 4, \"I know it's boring but this is my favorite floss.  It really helps scrape the stuff off.\": 4, \"I think this is the best floss I've used.  It's puffy, so it seems to clean between teeth very well.\": 4, 'Arrived promptly as described.  Perfect.': 4, 'I love this floss': 4, 'The best floss.': 4, 'Best floss ever used.': 4, \"Best floss I've found\": 4, \"I have found this floss recently (April 2015) at <NNP>. It's great!\": 4, 'My teeth are really close together and I can not get any other floss between my teeth.  The only problem is in finding it.': 4, 'Best dental floss available. I bought a pack of 6x55 yards. Each container is twice as big as is typically available at local stores.': 4, 'This is my favorite dental floss. I hated to see it taken out of the stores. The package came as advertised, 6 packs. I will buy again!': 4, \"I've tried a lot of different floss but finally this one seems to be the right one...deeper cleaning than anything else...strongly recommended.\": 4, \"Have used this for over a year. Doesn't shred often and does a good job. Local stores stopped carrying it and I was glad to find it here.\": 4, \"It's the best place to get it. My pharmacy never has it.\\r\\nThis is also the best price too! Thanks\": 4, '<NNP> liquid works very well on the heavy scaling on my scalp due to psoriasis and is less expensive than the prescription  product I hdd been using': 4, 'I have suffered all my life,,,, this is the only oroduct that works... it is quite gross but it really works': 4, 'This product works well.': 4, 'I use this all the time for Plaque Psoriasis': 4, 'Purchased this product for my son on advice from dermatologist.  Worked perfectly! Follow doctors recommendations, not bottle instructions.': 4, 'Works but, not like <NNP>\\r\\nI will purchase again': 4, 'I got the product quickly and all in tact!': 4, 'It really works!': 4, \"Used it for years. <NNP>n't stay too long with out it.\": 4, 'Messy but very effective for battling scalp psoriasis.': 4, 'The oil seems to working on my chronic psorisis/': 4, 'it works!': 4, 'Shipped quickly. Would reccomend to others.': 4, 'Cleared my granddaughters scalp up in just a few days. We will continue using this each time it returns. Very good product.': 4, 'This is a great product. It is easy to apply with eyedropper, shower cap at night, and shampoo in the morning.': 4, \"Love this!! I have scalp psoriasis and this help remove the dry patches. Only thing I don't like is the smell but it works. Highly recommended\": 4, \"It breaks up the plaque on my scalp - don't like wearing shower cap and all that and smell isn't great but it does whqt it is supposed to do\": 4, 'Excellent, I have used this product for approximately 30 years. I have very dry skin and this is the only lotion that really helps keep it smooth.': 4, 'This is a great product and the service I received from the seller was superb.': 4, 'The cheapest best moisturizer around for dry skin.  My facial skin gets so dry sometimes,it flakes.  <NNP> lotion really helps.': 4, \"I have used this for about 30 years and it's a marvelous product.\": 4, 'Great stuff': 4, 'My husband has used this since childhood, and has extremely dry skin.  It stings a bit going on his face, but keeps it lubricated!': 4, 'Best dry lotion that I have found. Highly recommend.': 4, 'Been using this for 25 years ....hard to find but makes your skin look dewy.': 4, 'I have used <NNP> since <NNP> dermatologists recommended it to me in mid 1970s.  The best product on the market.  I use nothing else!': 4, \"A great lotion and have used it for years!  It's hard to find at a reasonable price but <NNP> changed that.\": 4, 'This is the only lotion I will use on my face. I found it in 1987 and have been using it ever since.': 4, 'Have used for years.  A wonderful product.': 4, '<NNP> is the best lotion I have ever used.  I used this for my mom and she never had dry skin again, just beautiful skin.  Love, love, love it.': 4, 'I have used Wibi  Lotion for over 50 years, it is the best skin lotion for dry skin, particularly In the winter': 4, \"I love this stuff! I've been using this for over 6 years ever since my aunts dermatologist recommended it to prevent wrinkles.\": 4, \"works great --I've been using it for years\": 4, 'I have used this for many years.': 4, 'I have been using this product for 25 years.  Fantastic moisturizer.': 4, 'Been using it for decades..and I look decades younger than I am.': 4, 'I have used <NNP> since my teenage years, it was recommended by a dermatologist, and I will not use any other lotion.': 4, 'Fits my skin perfect': 4, 'Im addicted! This stuff makes your skin feel wonderful. I have used it for 25 years and I am so glad amazon has it. I cant find it anywhere else.': 4, 'I order this for my mother who swears by it. She says it is the only lotion that helps with her dry skin.': 4, 'This product has been around for many years and it is absolutely great for dry skin.  Everyone should buy it!!!!': 4, \"<NNP>, I'm a retired dental hygienist and it really helped my hands, especially when they were dry, cracked and bleeding.\": 4, \"My Grandmother has used this product for years.  I order <NNP> for her.  She swears by it and wouldn't use anything else if given the option.\": 4, \"Recommended by my doctor a couple of years ago.  It's a great product.  Wish I could find it in a local store.\": 4, 'Love the way it glides, works well with  my hot rocks too.\\r\\nAmazing smell, washes out of sheet super well!': 4, 'This is used for gentle stress relieving massage.  Stays slippery for a long time and does not leave an oily mess.': 4, 'I have been a body worker for over 30 years now and tried many different oils and creams. <NNP> massage oil is my favorite oil ever.': 4, 'I love this stuff!!!': 4, 'The best oil for me because I use deep pressure and I need the glide. It also works great with hot stone massage.': 4, 'Love everything about this oil. fragrance is light and clean.': 4, 'Very nice! smell it awesome! not over powering at all.': 4, \"This is a great product to use on skin especially for bedridden patient's.\\r\\nIt is the best bang for price and its utility.\": 4, 'This is the best product that I have found to treat very dry skin': 4, 'This is the most soothing cream I have ever used! Love it!': 4, 'Worked as advertised and was delivered on time.': 4, \"rich and thick like nobody's business.\": 4, 'GREAT FOR HEAT RASHES': 4, 'Excellent': 4, 'The best moisturizer ever.  wish you will export it to <NNP>....': 4, 'Thanks': 4, 'Good stuff': 4, 'Great for moisturizing your skin from head to toe!  Very thick, fragrance free and can be used for the whole family.': 4, 'for my face. Really good stuff. I would recommend it to all my friends. it is a very good product': 4, 'This is a very good product. It is hard to find the original formula in the large jar, so this was a good find.': 4, 'This is the only stuff I will ever use! It works so good and its just amazing! It helps your dry skin not to be dry any more!': 4, 'Easy to hold and curl hair.\\r\\nHeats up quickly': 4, 'bald head right now': 4, 'great': 4, 'thanks': 4, 'It was the perfect size for me. It handles nicely.': 4, 'This is a great value!!  Highly recommended!': 4, 'always a quality product': 4, 'Does a great job!': 4, \"You can't find this size in the stores.  Bought it for my Mom.  Perfect!\": 4, 'My hair is very short and thisbrush curling iron was just the right size so i ordered another one': 4, 'Mom loves her new curling iron.': 4, 'Got this for a relative and she like it when her hair is short.': 4, 'GREAT PRODUCT.': 4, \"I've done hair for many years. These works great for just touching up areas without looking like you've just curled part of your hair.\": 4, 'Perfect size curl for very short, thinning hair.': 4, 'Love this': 4, 'AAAA++++': 4, \"It works great I haven't had any problems yet\": 4, 'Love this curling iron, real nice for real short hair': 4, 'No one else makes one this small, I am stuck with it but it works well.': 4, 'Easy to use.  Easy to clean.  So glad I made this purchase.  It saves me time doing my hair every morning!': 4, 'Works great!': 4, 'Love this large brush iron, does not really curl just gives hair a little body.': 4, 'I really like this curling iron. Just the right size. Heats up quickly. Good price.': 4, 'Great size for short hair, heats up fast  ..love it': 4, 'I love this brush! Definitely a must have!!!': 4, 'Just what I was looking for, works great': 4, \"Handle is just the right size for my Mother's arthritic hands to hold, it's not real skinny and she loves the short barrel for her short hair.\": 4, 'Great for short hair.': 4, 'Heats up quickly and is easy to use. I love it!': 4, 'works well, as expected from this manufacturer': 4, 'Works very well.': 4, 'I like the 1/2\" barrel for short hair, not easy to find in store.  The curler works well and dies a beautiful job.': 4, 'Nice long bristles, 1 1/2\" barrel, yep, just what I ordered. Works well on long, fine hair.': 4, 'I have used it for years and really like it.': 4, 'Love it. I have been using this same style brush for many years.': 4, 'i love it just what i ordered..': 4, 'EASY TO USE': 4, '5/8 inch...2 settings ,swivel cord, heats up fast , good price!': 4, 'I love this curling iron and love the way the cord works!\\r\\nIt has been a win for me and your service was great! THANKS': 4, 'This small barrel is hard to find.  I am so happy to have one again.  Love it.': 4, 'Fast service,  no problems.': 4, 'Perfect for boards': 4, 'love it': 4, 'Great for fine hair. Used them for yrs': 4, 'Works great! This size is hard to find in stores. Good price.': 4, 'Nice': 4, 'Great': 4, 'Perfect! Great for short hair.': 4, 'Works great. Be aware the tip does get very hot on high.': 4, \"Great for smooth curls.  Can't survive without it.\": 4, \"Perfect curler size for hair . Works very well . Curls don't come out to fat nor too skinny , just right in the middle\": 4, 'Been looking for a 1 inch and this one is perfect': 4, 'So far so good with this product.  It works great!': 4, 'Exactly what I wanted, thank you': 4, 'just what I wanted': 4, 'works like I wanted it to.': 4, 'Replacement for like brush': 4, 'Just what I was wanting!': 4, 'Just what I wanted': 4, 'Love the brush!': 4, \"It's the best 1 1/2 inch brush iron on the market, if you can even find any in retail stores.\": 4, 'It never heated. I cannot use it at all.': 4, 'Great product. Thanks.': 4, 'Prompt service and good product.': 4, 'Everything went well with the order. Thank You': 4, 'happy woman': 4, 'Works great': 4, 'I have been looking for this item for some time.  So glad you still carry it.  Perfect for what I need it for.  Thanks for your nice merchandise.': 4, 'This was for my wife who used my computer to order her curling iron.  She loves it is all I can say.': 4, 'Love It!': 4, 'Luv it': 4, 'I love this curler and this is the cheapest place I have found it.\\r\\nIt does have what I think is a short lift-probably go through 2 or 3\\r\\na year.': 4, 'Works perfectly.': 4, 'Heats up fast and perfect for short hair! Use it daily and it does hold a curl well!': 4, 'Love this! Easy and quick to use!': 4, 'Good product, good price and good service': 4, 'Very good curling iron and easy to use.  I would recommend it.': 4, 'Perfect size curl for my new short haircut': 4, 'Great brush': 4, 'Good quality.': 4, 'Bought this for my mother, she loves it': 4, 'It heats up quickly and efficiently.  I hope its  endurance upholds.': 4, 'Grateful  in order the smaller one first to order the  next sixe': 4, 'Great wand for short hair. Well made & nicely priced. Excellent bargain.': 4, 'The perfect size for my hair style! I could not find this size at any store!': 4, 'Exactly what I was looking for': 4, 'My daughter loves it and she has really short hair so she uses it to curl her top.': 4, 'Works real well on short hair': 4, 'use every day': 4, 'love': 4, 'Works great for me. Gives bounce and shine to my hair.': 4, 'Exactly has described.': 4, 'Your <NNP> is the best styling tool that is out there! It really gets hot and curls your hair to perfection!': 4, 'Exactly what I expected': 4, 'Could not find else where. Works great': 4, 'Awesome': 4, 'loving it.': 4, 'Works great, just what I wanted!': 4, 'I love it still using it and it was on time. Thanks.': 4, 'Curling iron is as expected and had very fast delivery !  DH': 4, 'Great price and works great!': 4, 'I really love this! I have not burned myself once.': 4, \"I love <NNP>, I've used them for years!!!\": 4, 'I have looked all over for the 1/2 inch. And I can only find it on <NNP>. This has been a very good curling iron. I am very happy with this product.': 4, 'My wife loves this product': 4, 'excellent': 4, 'Very satisfied.': 4, 'Have had three of these.  Always meets my expectations.': 4, 'Amazing': 4, 'EXACTLY WHAT I WAS LOOKING FOR. WORKS GREAT!': 4, 'This is perfect! Nice full curl, handles the frizzies.': 4, 'This is great for short Hair!!': 4, 'The best!!!': 4, 'Great product  for the price.\\r\\nThanks\\r\\nDee': 4, 'Bought it as a gift for my sister. She is a stylist. She said it was exactly what she wanted! Fast shipping came in great condition.': 4, 'Great product.  fast shipping.  Thanks': 4, 'Works really well for why I purchased it.': 4, 'Really like.  Just what I needed.  Works great.': 4, \"It's as expected. A curling iron is a curling iron! Does the job great!\": 4, 'gift for my daughter.  She loves this product and I get her a new one every couple of years.  Excellent product': 4, 'wife loves it': 4, 'Perfect.': 4, '5/8\" barrels are quite hard to find.  My friend loves this.': 4, 'This little curling iron works perfectly for making ringlet-style curls. Really like it.': 4, 'Item received as described !': 4, 'just right for me': 4, 'Good product': 4, \"I looked <NNP> for a 1-inch brush iron.  Finally, I found it on <NNP>.  It's exactly what I was looking for.\": 4, 'Just what I was looking for.  Perfect for short fine hair - a big lift.': 4, 'Product was as advertised and was shipped promptly': 4, 'Very nice curling iron.......durable.....great price for the quality': 4, 'Received on time and it works great. Very pleased.': 4, 'My mom has been looking for this brand of curling iron for years, finally found it here, works great on short hair': 4, 'I needed to replace my broken one.': 4, '<NNP> products always great!  Cost is nominal; value phenomenal!': 4, 'Works great for short hair - it gets a little too hot after a while.': 4, 'I personally am not the most skilled at using it, but it was a wonderful value for the price and it will serve me well.': 4, \"really works and doesn't get too hot, if you don't want it too.  Better and less costly than going to the hairdresser.\": 4, 'Works well.  No issues': 4, 'I love this size...it gives a nice even curl...': 4, 'Great brush iron - great price.': 4, 'I love it!  I use it almost everyday, and it works wonderfully.': 4, 'Hard to find this size. Lasts about a year, but worth it for the price.': 4, 'was just what I was looking for': 4, 'I love this curler. I think I will order a back-up one.': 4, \"It works.  It's  what  I  needed.\": 4, 'Was everything I hoped it to be.  Light weight and heats up fast': 4, 'Love this curling iron - thinking of buying one for a \"spare\" as well!  The big barrel gives nice soft wavy curls': 4, 'Love this curling <NNP>. My hair has nice big curls or can be straightened. I will definitely buy this one again.': 4, 'GREAT': 4, 'ben using H of T for years. Love them. Although the sizes were not as I had in past.': 4, 'I use it almost daily': 4, 'I like this curling brush works great for me': 4, 'It is perfect!!  Thank you.': 4, 'I was very pleased with my <NNP>.': 4, 'Wife likes  the roller': 4, \"It's a great product\": 4, 'Just as expected.': 4, 'So happy to have found this!  It\\'s the only thing that works on my curly hair to \"straighten\" it.  Very hard to come by. <NNP>!': 4, 'Orderd this about 4 or 5 times and always what I expect!': 4, 'Love this brush iron. So hard to find something that works for my fine hair. This is the answer.': 4, 'Just the right size to create the perfect communion hair for photos and day of. Saved me from spending money at a salon for an updo.': 4, 'Works as expected.': 4, 'Love it.': 4, 'It was a gift....she still uses it!': 4, 'Another product I could not find this size barrel locally.  Was Thrilled\\r\\nto get what I wanted...and ordered several.': 4, 'Its fabulous. Great product.': 4, 'I like curling iton': 4, 'love the size of the curls and also smooths hair': 4, 'Delivered on time and product was just what I wanted.': 4, 'Use it every day - Thanks!': 4, 'Works great and is very easy to handle.': 4, 'Love item thank you': 4, 'Perfect!': 4, 'Just what we expected, was shipped quickly with no problems, thanks.': 4, \"First new iron I've bought in years & I love it\": 4, 'This is a great curling brush -- heats up fast and is lightweight and easy to use.': 4, 'Wife is very happy with product': 4, 'I love, love, love my iron! I purchased 4 to use at work & they are the best!': 4, '11111111': 4, \"I've used one for years, dropped it and replaced it as soon as I could.\": 4, 'Wife loves it.': 4, 'I AM VERY HAPPY WITH MY HELEN OF TROY BRUSH IRON!': 4, 'excellent service wonderful product': 4, \"Curls are not too tight.  Heats up quickly.  Hair doesn't tangle (and I have thick hair).\": 4, 'Can beat for the price.  Easy to pack and carry.': 4, 'Just the right size': 4, 'awesome curling brush': 4, 'I love the size and the heat is right with 2 settings.': 4, 'Have used your curling iron products for years and continue to do so. Thank you.': 4, 'I use it every day.  Works very well.': 4, 'Great item': 4, 'nice curling iron to travel with...': 4, 'This is a great curling iron!!!': 4, 'LOVE IT!!': 4, 'Finally found the size that I need for quick touch ups.': 4, 'I had an older one that was starting to short out.  Paid a lot more for it a couple years ago than I did this one.': 4, 'BIG CURLS.  BIG LOVE!!': 4, 'very hard to find a hot curling brush that is not a blow dryer, so when I found this one I knew I had to buy it for my sister.  She loves it!': 4, 'This size 5/8\" is hard to find.  It heats up fast I just wish that the barrel was a little shorter.': 4, \"I've been using this model of curling brush for over 10 years.  Love it!!\": 4, 'It works great!': 4, 'Been looking for this item and can no longer locate in a store. Great to use to add body to hair.': 4, 'This is my 4th <NNP> Brush Iron, I love this iron.': 4, 'Great, I am always looking for these hen my old one breaks down': 4, 'Just what I wanted and shipped quickly!': 4, 'Just what I had been looking for.': 4, 'awesome': 4, \"This is a professional product.  Gets really hot and doesn't have an auto off so be careful.\": 4, 'Very good service. Had just what I wanted!': 4, 'Great for my type of hair, gets very hot so be careful': 4, 'for the price is 100% aok.': 4, '<NNP>.  This is the curling Iron I buy.  Hope they never quit making it!': 4, 'It is excellent': 4, 'Excellent.': 4, 'This is the best for my hair': 4, 'Great little curling iron.': 4, 'Love it.  Works exactly as I needed for my fly away hair.': 4, 'just what i needed. Holds my hair in the brush while the iron does the rest. Great': 4, 'Arrived timely and undamaged.': 4, 'Can not comment on the iron returned for different iron.': 4, 'have always used this brand.': 4, 'I love it also love the 3/4 inch brush and the 1/2 inch curling iron I bought to., will be shopping at <NNP> again, thank you..': 4, 'Love my curling iron!': 4, 'love it,': 4, 'LOVE THIS!! Good Product!': 4, 'I am very satisfy, perfect!': 4, 'just the size i needed': 4, 'My favorite brush iron.  Use it daily.  My first one lasted for years.  This replacement is designed a little different and I like it even better.': 4, \"This brush iron gave my hair tons of volume. I love using it when I am in a hurry and don't have enough time to curl my hair.\": 4, 'Just right.': 4, 'I do love it.  They have updated enough from the old one so that your hair, once curled in it feels more secure.': 4, 'Arrived quickly & handles well while curling.': 4, 'a must have': 4, 'works great': 4, 'Needed a new curling iron brush and this one works great and love the bristles that keep soft hair from flying out of the heat portion.': 4, 'This curling iron is a backup.  I have been using one just like it for years.  I prefer the marcel handle and this one does the job.': 4, 'I Just love this curling iron. I like the small barrel it has to form small curls. I would recommend.': 4, 'This brush helps smooth out the frizzies in my somewhat naturally curly hair. I have used one for many years.': 4, 'Love this.  My hair never looked so good every day.  Just a few minutes heat brushimg and I have lots of body.\\r\\n\\r\\nOne of my best purchases.': 4, 'nowhere in stores, hard to find, No bristles to get all tangled in your hair. excellent quality.  i love it!.': 4, 'Thank goodness they went back to the longer bristles. Much better! The last one I bought was a disappointment. Love this one.': 4, \"I would recommend this curling iron because it is made with teeth and not bristles. It doesn't get the hair tangled as a result.\": 4, 'This curiling iron is a great product.  The spring holds tight and grips the hair.  It heats up well also.  I would purchase this one again': 4, 'This was a Christmas gift for a friend and I believe it was very much liked and appreciated. Great idea!': 4, \"I've been looking for one of these for awhile.  Works great, heats up fast and curls my hair perfectly, completely happy.\": 4, \"I really liked the big barrel  it's nice and easy to use I use it everyday gets hot real nice\": 4, 'Been looking for this size hair curler for years, never thought to look on <NNP>, but there it was..perfect for my hair.': 4, \"don't klow how they like them yet--hoping they like them really well -  i will let you know what i find out\": 4, \"These are hard to find anymore. Highly recommend this one. The heating is just right compared to weaker ones I've had. Very sturdy!\": 4, 'Hard to find in the store, so I purchased here. Works great and the only thing is it takes a little longer to heat up': 4, 'It is easy to style the hair, easy to use and I love it!!\\r\\nWherever I go I can take it with me cause it is easy to handle': 4, 'They have streamlined the design and made it one of the best curling brushes I have ever used and I have used them for over 15 years.': 4, 'Love this large barrel.  Curls hair nicely and good quality.\\r\\nHeats up quickly, but only bad thing, no auto shut off.': 4, 'Great  I really lile tbis produc\\r\\n i ha  d a hard ome to fime the product that I likedt thank ypu': 4, 'The 3rd time was the charm.  I have two botched attempts when the wrong size iron was sent, both times.  Finally, it is right and I am pleased.': 4, \"Love it.  Couldn't find one like it in town anywhere so I bought this one on line.  It is perfect for long hair.\": 4, 'I have this brush in the larger size as well it works well with my long thin fine hair. Much easier to use than a curling iron.': 4, \"Bought this for my wife. She says it's perfect! Attractive and practical and great for travel. She recommends it highly.\": 4, 'Hard item to find, not available in stores, A necessity for my hair! Updated version even better than old version.': 4, 'It works great and heats up fast.  Makes a good curl.  I am very glad I ordered it.  I would order it again.': 4, 'I could not find a brush iron, let alone this size, anywhere!  It is so much easier to use than a regular curling iron.  I love it!': 4, 'You cannot find these small curling brushes in the stores\\r\\nand I was happy to find them online.  They\\r\\nare exactly what I wanted and work fine.': 4, 'I really like this curling iron.  The 5/8\" size is extremely hard to find and I was glad to find it on line and will order another one for travel.': 4, 'Fast delivery, excelent product, it was what i want, works perfect,, i would recommended for all ages for use this product': 4, 'Great price & works great. Fast delivery. My wife has used this curling iron before & it is just right size barrel for her short hair.': 4, 'product received in a week.and work great. I have a short hair and it take just few mints to style after drying my hair.': 4, 'this barrel size is so hard to find.  This size is not sold in retail stores. I love it and not too expensive.': 4, 'Great Deal!!  WAY CHEAPER THAN THE ONES AT THE STORE. BRAND NEW IN BOX, WORKS LIKE NEW, AND PACKAGED GOOD': 4, 'brush iron on <NNP>.  Had used one years ago and liked it.  Love it every bit as much as previously and the price makes it even better.': 4, 'As many as these brushes as my wife has gone thru in recent years, this is by far the most durable and longest lasting. Better then wal mart': 4, \"Easy to use; doesn't damage my hair, which is a huge plus because my hair is subject breakage.  Thank you.\": 4, \"I had looked everywhere for a large curling brush and finally found this one.\\r\\nIt meets all of my expectations and I'm very happy with it.\": 4, \"My old <NNP> burned out, this one is great, heats up quickly, would definitely buy another.  Please don't discontinue this item!\": 4, 'It is perfect for longer hair.  It gives just enough curl to not look strait.  It is easy to pack for trip as well.': 4, 'Love it.  Could not find this size anywhere in our area.  Not even beauty supply stores.  Can keep my curly perm and straighten it as much as i want.': 4, 'This size is difficult to find just anywhere and it works perfectly, I am very pleased and will be ordering another one for the travel bag soon.': 4, 'AAAA++++ does exactly as advertised love it love it love it... would recommend to anyone light and handy AAA+++ love it': 4, \"It's the perfect size for my kind of hair.  It's not too hot and curls just a little, which is what I want.\": 4, 'My short hair loves this iron.  Does the job well!!  Stays hot and easy to use.  I love having the comb like barrel for ease in curling.': 4, 'This was recommended to me by a friend, I was skeptic but thought to give it a try and love it!': 4, 'Great for my baby fine hair and quick to use!  This is the best because it travels well also .': 4, 'I have had trouble finding this item.  It works great and was shipped quickly!  My mother in law is very happy!': 4, \"Wanted for that additional hair styling. Is perfect and found no faults as some comments shown. Can't complain, It works to my satisfaction.\": 4, 'Got this for a family member and this is just what she wanted, she likes the thin barrel compared to thicker ones.': 4, 'I love the brush irons. I cant believe they are hard to find.  I have the 1 inch and the 1 1/2 inch.  Makes styling my hair so easy.': 4, \"Love this hair tool. I you have long hair it make's great curl's.\\r\\nand heat's up fast. I do so many hair styles with it.\": 4, 'My hair is so thick. Hair holds around the brush without slipping. Best grip from the teeth of the barrel. None compare.': 4, 'Just right for big curls and long hair on this hard to find curler brush!  Easy to use and just the right temperature heat settings too!': 4, 'I have had this product before and have been very happy with it. I just use it to turn the ends of my hair under after blow drying.': 4, 'I am very satified with the product I bought.  It was easy to find on the site and was delivered very fast.': 4, 'NEEDED TO RETURN DUE TO SIZE OF CURLING BRUSH .... TOO BIG FOR SHORT HAIR': 4, \"I purchased for use with my daughter's <NNP> lenses.  They have prevented contamination and have not chapped or irritated skin.\": 4, 'Works really well!!  I use every day and every night and never leaves a residue on my hands when dealing with my lenses.': 4, 'If you wear contacts, this is the best product for washing your hands prior to handling your contacts.': 4, \"It's great. And leave no residue on your fingers which makes it very easy to take contacts out.\": 4, 'Suggested by my ophthalmologist for use with my scleral contact lenses because it leaves no residue on the hands/fingers.': 4, 'Very good, same product as they use at optician': 4, 'Great for contact lenses': 4, 'This soap is a must for handling my contact lenses. Other hand soaps tend to leave a film on my lenses. For me this is a must!': 4, \"Excellent product, very efficient, doesn't contain any additives.\": 4, \"Great soap to use prior to putting contacts in.  Doesn't leave residue on hands or an irritating perfume smell.  On my 2nd bottle.\": 4, 'Love my new hair style.': 4, 'I love this soap but too pricey for the size': 4, 'Smells like a dream. Love it.': 4, 'This is a wonderful soap - smells so good, good lather, rinses squeaky clean. Love it!!': 4, 'love!': 4, 'If you like patchouli you will LOVE this soap.  This actually smells like patchouli.  Very nice soap.': 4, \"I got this for my husband and he loves it.  I don't care for patchouli oil but the soap has other spices in it and it actually smells quite nice.\": 4, 'Smells amazing and sticks with u! My whole bathroom smelled like it when it was new.': 4, \"Leaves a clean, fresh scent that in't overpowering. Not too strong but a nice patchouli scent.\": 4, 'Love It!!!': 4, 'One of my favorite soap smells.  Great for lathering and feeling fresh and clean.': 4, 'Great soap. Exceeded my expectations. Great aroma and rinses will. Very pleased with this product!': 4, 'Husband loved it, strong scent and arrived promptly.': 4, 'Love this soap everyone should try it': 4, \"Wonderfully fragrant. I'll be ordering this again.\": 4, \"This one didn't smell as strong as the sandalwood one by this company, which is my favorite!  I thought I would try it out though.\": 4, 'I love it! The smell is awesome': 4, 'Love this soap. My husband uses it for his beard and it smells great!': 4, 'Thank you for an excellent product.': 4, 'Use this on my face; nothing but pure oils and great aroma!': 4, 'Smells great and lathers good!': 4, 'This is a great product!': 4, 'Love the smell and the smell lasts longer than other soaps. Will buy again.': 4, 'excellent quality': 4, 'I like this and would recommend this to anyone.': 4, 'Love this soap. Lathers good and smells great. I took advice from another buyer to cut in half for longer life. Put other half in <NNP>.': 4, 'Good soap! Light patchouli scent!': 4, 'In heaven - scent is amazing and it is creamy and wonderful.': 4, 'My husband loved the product.': 4, 'beautiful sent of patchouli..not to strong just the right amount of scent .very soft feeling .love this soap': 4, 'I love the odor': 4, 'Love the aroma.': 4, \"Love this soap. Smells exactly like patchouli. Lathers nicely and keeps well. My favorite brand and make of any I've tried.\": 4, 'Mt favorite fragrance is <NNP>, so when I saw it in a soap I had to have it. This soap is wonderful and lasts a long time.': 4, 'Smells good and makes my skin feel clean and soft.': 4, \"Pure Patchouli smell.  That's what I was looking for and that's what I got!  I will buy again...non-drying and leaves a clean, light smell.\": 4, 'Smells great. I will buy again for sure': 4, 'great service and product': 4, 'Smells great - not too heavy. Love patchouli and this soap is great!': 4, 'perfect': 4, 'Smells like patchouli and works like soap. I like it!': 4, 'Great stuff!': 4, 'Great Aroma a must!!': 4, 'Love , Love, Love......and thank you for the fast delievery!!!!!': 4, 'Perfect color to match bath dcor & scented mildly.': 4, \"before I bought I don't think was enough ended up giving gifts I'll be ordering again\": 4, 'such good quality. Love this soap.': 4, 'great, need more': 4, 'Smells delicious and made my skin gloriously soft, the latter of which was a pleasant surprise.': 4, \"I love this soap! The scent is wonderful and relaxing. I have a black bath tub and this soap doesn't leave a ring which is pretty amazing.\": 4, 'Smells great!!!!': 4, 'Thank you!': 4, 'feel great after taking a shower with the plantlife patchouli soap.': 4, 'Good soap, weak scent': 4, 'Quality patchouli soap.': 4, 'smells wonderful.  from another customer,  she cuts the bar in half.  I think I will try this.  will order again.': 4, 'this stuff is awesome...will buy again': 4, 'Purchased for my friend as a Christmas stocking stuffer and she loves it.': 4, 'I love this soap. Simple as that. Great product and fast delivery.': 4, \"Love the soap.  This is the second time I've ordered it.  Fast shipping.\": 4, 'I use this soap in the exfoliating mesh soap saver pouch and love it!!!  I always loved this scent anyway.\\r\\nIt is so great in the shower!!!': 4, 'Wonderful!': 4, 'Wonderful, I love it!': 4, \"Best smelling soap ever. I always have to keep\\r\\na bar on hand. You won't regret buying this! <NNP> is the best.\": 4, \"I love the clean smell of this soap. Nice facial cleanser and it doesn't leave a residue. I would purchase this again.\": 4, 'I love this smell and I will buy more! Must get this your skin feel so soft and it smells amazing!': 4, 'Great soap..love it I highly recommend it to anyone looking for something different. Great price, great product. Two thumbs up...<NNP>': 4, 'Product is just as advertised...I received it within 1 week of ordering.  The scent is very pleasant and it fills my whole bathroom.': 4, 'Lathers well and smell is what I was looking for. I will buy this again, perhaps more than one next time.': 4, 'GOOD AT ALL  FATA  FATI': 4, \"My daughter in law remembers this scent from her grandmother's house.  I was pleased to find something she really wanted.\": 4, 'I would recommend this herbal soap to anyone! Loved the <NNP>!!! Will be buying more!! Great packaging also! Great gift idea!': 4, 'I wanted to know how this soap smelled so i ordered it. It has a very earthy smell and i must say i really do enjoy it alot.': 4, 'I am an old hippy who loves all things patchouli.  I even have a bar of this tucked in my dresser drawers!!': 4, \"Smells amazing. Doesn't have a drying effect on my skin. Is free of chemicals and toxins. What's not to love?? Great product.\": 4, 'A great sense for any room.  You just shower once and it is like unleasing a sense of calmness.  Everyone will comment on the sense.': 4, 'I have been buying this soap for many years now.  Love the fragrance....not too overwhelming, yet it lasts a long time.': 4, 'the bar is so big i cut in to 2 pieces. my skin feels like silk and smells wonderful.  love love this product.': 4, 'I use this moisturizer and I love it. It works wonders for my skin and it smells amazing as well.': 4, 'This soap is a great value for the money very fragrant and great for the skin.': 4, 'this is the first time that i have ordered from <NNP> and i will continue to order from them. love their products!': 4, 'This was great for getting my nail polish back to its regular consistency and cleaning up the top of the bottle.': 4, 'Does exactly what it claims, bottle lasts a long time.  Useful for keeping proper consistency of your nail polish.': 4, 'Really nice thinner for a nice price': 4, 'Wife likes it.': 4, 'This product was EXCELLENT and I received it earlier than expected.': 4, 'Money well spent. Helped me save money on my drying nail polish ': 4, 'It does what it says it does.  My favorite nail polishes are back': 4, 'It works well but I notice that now the nail polish takes for ever to get dry.  I guess that is normal': 4, 'extends the life of nailpolish': 4, 'Great price for a great size bottle.  Hard to find.  Happy I looked on line!': 4, 'Great product and good price. Will order again': 4, 'Very good': 4, 'I use it not only for my nail polish.  My liquid whiteout lasts forever because of this product.': 4, 'This is a good product.  Just a few drops thins older nail polish to a usable condition again.  Big bottle will last a long, long time.': 4, 'Just a drop or two in an old bottle of nail polish renewed my favorite color!': 4, 'exelente producto': 4, 'love it ..works good ..came faster than I expected': 4, 'Save me a lot of trouble trying to use some old polish that I had.': 4, 'Actually works! Little goes far ': 4, 'Works great!  I use a couple drops at a time and it thinned my ancient black nail polish to a smooth liquid again.': 4, 'Awesome product, no more throwing out semi thickened nail polish.  Thin it down to as new condition.': 4, 'Works as expected': 4, 'Works as expected.  Now old polish is new again!': 4, 'Works like I wanted.  Why cant we get this in the store?': 4, 'Good product.': 4, 'Does as it says. Good product.': 4, 'Has brought all my older polishes back to life.': 4, \"Have used this forever great if you haven't used your polish in a while thins it just enought\": 4, 'This stuff really helps extend the life of a bottle of nail polish.  Very happy with its performance.': 4, 'Perfect.. and delivery very fast': 4, 'TURED OLD CLUMPY <NNP> IN TO USEABLE <NNP> AGAIN..GOOD STUFF': 4, \"Can't find in local stores, awesome product\": 4, 'Worked great better than polish remover': 4, 'I bought a great nail polish but it got way thick,sticky, and stringy after two uses. this thinner saved it from the trash': 4, 'Product works great. I put in old polish and it brought it back to life and I am able to use it again.': 4, 'its handy': 4, 'a life saver for my favorite polishes that have been around awhile and gotten too thick to brush smoothly.': 4, \"Does what it's supposed to.\": 4, 'My problem solver': 4, 'Product is as described.  Works great to thin polish.': 4, 'Worked perfectly.  This will be great to extend the life of my polish.': 4, 'Works well and saves a few bottles of pretty nail polish.': 4, 'great quality, price & shipping!': 4, 'inexpensive and does the job': 4, \"Works great a few drops gives old nail polish new life.  Don't throw away polish that is thick just get this works great.\": 4, 'I really like you dissolve well .me charm': 4, 'Great pricing. Great product.': 4, 'GOOD': 4, 'glass bottle received not broken.': 4, 'This is a must have if you are a nail polish person, I have so many nail polishes and once they get thick and gross I put this in it and like new.': 4, 'My nail polish is now perfect.': 4, 'Love this stuff': 4, 'Works well': 4, 'use to thin out correction fluid and it works great.': 4, 'Extends life of nail polish for sure!': 4, 'Great product, you can now use you thick polish....lol': 4, 'It did what it was supossed to do.': 4, 'Alot of thinner!!!!! Works beautifully!!!!': 4, 'Just what i was looking for': 4, 'Does what it is supposed to do.': 4, 'Awesome product.': 4, 'Got the job done.  Requires an eye dropper.': 4, 'Great product, works very well, make sure to have a drop dispenser to use when mixing with <NNP> or you will spill more than you want.': 4, 'Great. Does the job fine. Would be nice if it came with a funnel or 1ml syringe.': 4, 'It does the job! Nail polish lasts much longer! Instant results!': 4, 'Thins out old polish so you can use it again.  Very pleased with the results, only a couple of drops helps.': 4, 'Does what it says. About 15 of my nail polishes are now usable again.': 4, 'Works like a charm.': 4, 'Gets my brushes clean and thins out my super thick polishes! Amazing price, too!': 4, 'Saved a few bottles of nail polish that I would have had to toss.': 4, 'Worked like a charm!': 4, 'Total miracle nail polish saver!!!..... i used the same cap to insert the liquid in the nail polish... this stuff WORKS!!!!!!!!!': 4, 'I could not do nail art without this stuff. It gives you so much control over your polishes and makes them last forever!': 4, \"More than I'll ever need.  Just wish it had an applicator of some sort.\": 4, 'thank you': 4, \"Awesome stuff!!  Works much, much, much better than nail polish remover.  Very strong smelling, so make sure you're near a window or in a big room.\": 4, \"The smell is really strong but it does what it's supposed to do and really fast shipping\": 4, \"This stuff is great. It's hard to pour into your polish - might need a funnel or something, but it definitely thins it out\": 4, 'love this!  helps the nail polish dry quicker.': 4, 'good.': 4, \"Saved my fave nail polish that I couldn't find anymore!!\": 4, 'It is a wonderful iron brush but not what I wanted.  This if for long hair and I have short hair.': 1, 'Fragrance not up to par sorry': 1, 'This was to sticky': 1, 'really strong scent, i would say this is for men only. would not by for myself but my husband likes it.': 1, 'More than half of it leaked all over the box before it arrived': 1, \"Didn't really work. Maybe my polishes were too far gone?\": 1, \"So far, I haven't found any nail polish I use that this thins. Very disappointed about its effects on a gloppy bottles of <NNP> and <NNP>.\": 1, 'dont do anything': 1, 'This product is for oily skin too harsh for regular skin. Your face look like a ghost just white dry and dull.': 1, \"Didn't really do anything  for my hands. I put it on every night and didn't see anything  positive  come out of it. But diid smell like it would....\": 1, \"It's so heavy cream\": 1, \"If you're face is wet it doesn't work.\": 1, 'Probably best as a sunscreen. Has a residue.': 1, 'The orange scent is much too strong. Goes on a little chalky.': 1, \"Not very smooth & hard to get rubbed in.  I wear foundation over & does not go on very well.  Love the organic, but probably won't buy again.\": 1, 'This lotion is next to impossible to squeeze out of the bottle.  Need VERY strong hands, therefore, not using it & will probably toss it.\\r\\n<NNP>': 1, \"I've been using it religiously but it seems to have gotten very chalky and takes ages to absorb into my skin.\": 1, \"It's Not the best facial product. It is very thick so I ended up using it only for my hands.\": 1, \"I didn't like this at all. They must have changed their formula. It's almost pasty. Doesn't absorb at all. :(\": 1, 'I really liked the old formula for this product but the new one it is not as good. It is thick and leaves a white film on your face.': 1, \"It's not smooth going on at all. The original one with out the sunscreen is sooooo much better. Would not buy again.\": 1, 'Love this product so much... very close to expiration date. Only negative FYI about my product.': 1, 'Seriously irritated my skin': 1, \"pretty good soap, mild scent---I give it a B-, pretty good lather. Lasts a normal length of time if you don't let it sit in water.\": 2, 'I love the odor, but used alone is too drying.  I use a moisture soap and after rinsing I then use the herbal.': 2, 'wish it had lasted longer... no matter how hard I tried to keep the bar dry between showers it was gone in a flash!': 2, 'Does the job to keep your nail polishes fresh and ready for use.': 2, \"This is a great product I just don't know if its worth buying online. Product is fine.\": 2, 'it kinda works but not on older nail polishes': 2, 'Not the best.': 2, 'Spills to the side when you pour it due to its opening.': 2, 'I only tried it once and it did not thin the polish - maybe it was too late for this polish.': 2, 'thought it would thin better..': 2, 'It works, but the odor it has is very strong, make sure to use in a well ventilated room.': 2, \"this mustard's write up is much better than the actual thing.  Maybe my pain level is unreachable with just a rub.\": 2, 'At first it stung a little, but after using for a few days it seemed to have gotten better': 2, 'Kind of drying for my skin, also leAves a white residue. It smells really good though!': 2, 'I love this and have been using the face wash and toner for years. The only complaint is that the the lotion is a bit thick and white.': 2, \"I really like this product...until I get to the last quarter of the bottle. Then it's very watery\": 2, \"Didn't work for me, didn't feel hydrating enough.\": 2, 'Super thick': 2, 'The lotion goes on a little thick, but perhaps that is because of the SPF 15. Overall, good product and does not cause my skin to break out.': 2, '<NNP> did not blend well into my skin .......  I have dry skin but i felt it was too greasy for me': 2, 'Not as good as <NNP>, but good value for the size and price.': 2, 'Stains the tub, but is a good product.': 2, \"I just don't particularly feel anything different when using the mustard bath.  Different things work for different people.  Yay for individuality!\": 2, \"Didn't do what it says. Would not buy again.\": 2, 'The problem is having to rinse it off in the shower afterwards, though it feels good to soak in.  A bit messy, too.': 2, 'Leaves buildup on bottom of tub..beware also makes it slippery': 2, 'Did not care for the smell of this.': 2, 'Love the way it smells, but seems to dry my skin. Perhaps due to living in this area with dry cold weather. Glad I tried it.': 2, 'The soap is good. Im surprised by its aroma and quality but the 3.00 shipping kind of steers me away from the product.': 2, 'unfortunately there is no lovely odor to this item': 2, 'fragrant is gone after 2 hours.': 2, 'it smells like light lavender and it mists your face. but you may as well just spray water because there are no other effects': 2}\n"
          ]
        }
      ]
    },
    {
      "cell_type": "code",
      "source": [
        "class AmazonProductReviewDataset(torch.utils.data.Dataset):\n",
        "    def __init__(self, encodings, labels):\n",
        "        self.encodings = encodings\n",
        "        self.labels = labels\n",
        "\n",
        "    def __getitem__(self, idx):\n",
        "        item = {key: torch.tensor(val[idx]) for key, val in self.encodings.items()}\n",
        "        item['labels'] = torch.tensor(self.labels[idx])\n",
        "        return item\n",
        "\n",
        "    def __len__(self):\n",
        "        return len(self.labels)"
      ],
      "metadata": {
        "id": "ZqJJ3-m9DNUI"
      },
      "execution_count": 47,
      "outputs": []
    },
    {
      "cell_type": "code",
      "source": [
        "# get encodings to train with\n",
        "train_encodings = tokenizer(list(training.keys()), truncation=True, padding=True)\n",
        "val_encodings = tokenizer(list(validation.keys()), truncation=True, padding=True)\n",
        "test_encodings = tokenizer(list(test.keys()), truncation=True, padding=True)\n",
        "#train_encodings_luke = tokenizer(list(training_luke.keys()), truncation=True, padding=True)\n",
        "#val_encodings_luke = tokenizer(list(validation_luke.keys()), truncation=True, padding=True)\n",
        "#test_encodings_luke = tokenizer(list(test_luke.keys()), truncation=True, padding=True)\n",
        "train_dataset = AmazonProductReviewDataset(train_encodings, list(training.values()))\n",
        "val_dataset = AmazonProductReviewDataset(val_encodings, list(validation.values()))\n",
        "test_dataset = AmazonProductReviewDataset(test_encodings, list(test.values()))\n",
        "#train_dataset_luke = AmazonProductReviewDataset(train_encodings_luke, list(training.values()))\n",
        "#val_dataset_luke = AmazonProductReviewDataset(val_encodings_luke, list(validation.values()))\n",
        "#test_dataset_luke = AmazonProductReviewDataset(test_encodings_luke, list(test.values()))"
      ],
      "metadata": {
        "id": "FBY5fecADOYk"
      },
      "execution_count": 51,
      "outputs": []
    },
    {
      "cell_type": "code",
      "source": [
        "model_name = \"fine_tune_amazon\"\n",
        "model_name_luke = \"fine_tune_amazon_LUKE\"\n",
        "learning_rate = 2e-5\n",
        "per_device_train_batch_size = 16\n",
        "per_device_eval_batch_size = 16\n",
        "num_train_epochs = 5\n",
        "save_strategy = \"no\""
      ],
      "metadata": {
        "id": "J1nzRxZPECq2"
      },
      "execution_count": 54,
      "outputs": []
    },
    {
      "cell_type": "code",
      "source": [
        "def compute_metrics(eval_pred):\n",
        "   load_accuracy = load_metric(\"accuracy\")\n",
        "  \n",
        "   logits, labels = eval_pred\n",
        "   predictions = np.argmax(logits, axis=-1)\n",
        "   accuracy = load_accuracy.compute(predictions=predictions, references=labels)[\"accuracy\"]\n",
        "   return {\"accuracy\": accuracy}"
      ],
      "metadata": {
        "id": "rVk-WkBnEL_u"
      },
      "execution_count": 55,
      "outputs": []
    },
    {
      "cell_type": "code",
      "source": [
        "data_collator = DataCollatorWithPadding(tokenizer=tokenizer)\n",
        "training_args = TrainingArguments(\n",
        "   output_dir=model_name,\n",
        "   learning_rate=learning_rate,\n",
        "   per_device_train_batch_size=per_device_train_batch_size,\n",
        "   per_device_eval_batch_size=per_device_eval_batch_size,\n",
        "   num_train_epochs=num_train_epochs,\n",
        "   save_strategy = save_strategy\n",
        ")"
      ],
      "metadata": {
        "id": "FqBaxLgyEO05"
      },
      "execution_count": 56,
      "outputs": []
    },
    {
      "cell_type": "code",
      "source": [
        "trainer = Trainer(\n",
        "   model=model,\n",
        "   args=training_args,\n",
        "   train_dataset=train_dataset,\n",
        "   eval_dataset=val_dataset,\n",
        "   tokenizer=tokenizer,\n",
        "   data_collator=data_collator,\n",
        "   compute_metrics=compute_metrics,\n",
        ")"
      ],
      "metadata": {
        "id": "IQyFhRBBESxm"
      },
      "execution_count": 57,
      "outputs": []
    },
    {
      "cell_type": "code",
      "source": [
        "training_args_luke = TrainingArguments(\n",
        "   output_dir=model_name_luke,\n",
        "   learning_rate=learning_rate,\n",
        "   per_device_train_batch_size=per_device_train_batch_size,\n",
        "   per_device_eval_batch_size=per_device_eval_batch_size,\n",
        "   num_train_epochs=num_train_epochs,\n",
        "   save_strategy = save_strategy\n",
        ")"
      ],
      "metadata": {
        "id": "ycuxB10ZEWih"
      },
      "execution_count": 58,
      "outputs": []
    },
    {
      "cell_type": "code",
      "source": [
        "#trainer_luke = Trainer(\n",
        " #  model=model_luke,\n",
        "  # args=training_args,\n",
        "   #train_dataset=train_dataset_luke,\n",
        "   #eval_dataset=val_dataset_luke,\n",
        "   #tokenizer=tokenizer,\n",
        "   #data_collator=data_collator,\n",
        "   #compute_metrics=compute_metrics,\n",
        "#)"
      ],
      "metadata": {
        "id": "yn14GL45EZJj"
      },
      "execution_count": 60,
      "outputs": []
    },
    {
      "cell_type": "code",
      "source": [
        "# train\n",
        "print(\"Training one\")\n",
        "trainer.train()\n",
        "trainer.save_model()\n",
        "print(trainer.evaluate())\n",
        "# Test dataset\n",
        "trainer.eval_dataset = test_dataset"
      ],
      "metadata": {
        "colab": {
          "base_uri": "https://localhost:8080/",
          "height": 545
        },
        "id": "oNmEZm52EcVw",
        "outputId": "c8a1357f-7667-4123-96e7-5c64506684be"
      },
      "execution_count": 61,
      "outputs": [
        {
          "output_type": "stream",
          "name": "stderr",
          "text": [
            "/usr/local/lib/python3.10/dist-packages/transformers/optimization.py:391: FutureWarning: This implementation of AdamW is deprecated and will be removed in a future version. Use the PyTorch implementation torch.optim.AdamW instead, or set `no_deprecation_warning=True` to disable this warning\n",
            "  warnings.warn(\n",
            "You're using a AlbertTokenizerFast tokenizer. Please note that with a fast tokenizer, using the `__call__` method is faster than using a method to encode the text followed by a call to the `pad` method to get a padded encoding.\n"
          ]
        },
        {
          "output_type": "stream",
          "name": "stdout",
          "text": [
            "Training one\n"
          ]
        },
        {
          "output_type": "display_data",
          "data": {
            "text/plain": [
              "<IPython.core.display.HTML object>"
            ],
            "text/html": [
              "\n",
              "    <div>\n",
              "      \n",
              "      <progress value='9' max='2190' style='width:300px; height:20px; vertical-align: middle;'></progress>\n",
              "      [   9/2190 01:16 < 6:38:41, 0.09 it/s, Epoch 0.02/5]\n",
              "    </div>\n",
              "    <table border=\"1\" class=\"dataframe\">\n",
              "  <thead>\n",
              " <tr style=\"text-align: left;\">\n",
              "      <th>Step</th>\n",
              "      <th>Training Loss</th>\n",
              "    </tr>\n",
              "  </thead>\n",
              "  <tbody>\n",
              "  </tbody>\n",
              "</table><p>"
            ]
          },
          "metadata": {}
        },
        {
          "output_type": "error",
          "ename": "KeyboardInterrupt",
          "evalue": "ignored",
          "traceback": [
            "\u001b[0;31m---------------------------------------------------------------------------\u001b[0m",
            "\u001b[0;31mKeyboardInterrupt\u001b[0m                         Traceback (most recent call last)",
            "\u001b[0;32m<ipython-input-61-6a69fc246141>\u001b[0m in \u001b[0;36m<cell line: 2>\u001b[0;34m()\u001b[0m\n\u001b[1;32m      1\u001b[0m \u001b[0mprint\u001b[0m\u001b[0;34m(\u001b[0m\u001b[0;34m\"Training one\"\u001b[0m\u001b[0;34m)\u001b[0m\u001b[0;34m\u001b[0m\u001b[0;34m\u001b[0m\u001b[0m\n\u001b[0;32m----> 2\u001b[0;31m \u001b[0mtrainer\u001b[0m\u001b[0;34m.\u001b[0m\u001b[0mtrain\u001b[0m\u001b[0;34m(\u001b[0m\u001b[0;34m)\u001b[0m\u001b[0;34m\u001b[0m\u001b[0;34m\u001b[0m\u001b[0m\n\u001b[0m\u001b[1;32m      3\u001b[0m \u001b[0mtrainer\u001b[0m\u001b[0;34m.\u001b[0m\u001b[0msave_model\u001b[0m\u001b[0;34m(\u001b[0m\u001b[0;34m)\u001b[0m\u001b[0;34m\u001b[0m\u001b[0;34m\u001b[0m\u001b[0m\n\u001b[1;32m      4\u001b[0m \u001b[0mprint\u001b[0m\u001b[0;34m(\u001b[0m\u001b[0mtrainer\u001b[0m\u001b[0;34m.\u001b[0m\u001b[0mevaluate\u001b[0m\u001b[0;34m(\u001b[0m\u001b[0;34m)\u001b[0m\u001b[0;34m)\u001b[0m\u001b[0;34m\u001b[0m\u001b[0;34m\u001b[0m\u001b[0m\n\u001b[1;32m      5\u001b[0m \u001b[0;31m# Test dataset\u001b[0m\u001b[0;34m\u001b[0m\u001b[0;34m\u001b[0m\u001b[0m\n",
            "\u001b[0;32m/usr/local/lib/python3.10/dist-packages/transformers/trainer.py\u001b[0m in \u001b[0;36mtrain\u001b[0;34m(self, resume_from_checkpoint, trial, ignore_keys_for_eval, **kwargs)\u001b[0m\n\u001b[1;32m   1660\u001b[0m             \u001b[0mself\u001b[0m\u001b[0;34m.\u001b[0m\u001b[0m_inner_training_loop\u001b[0m\u001b[0;34m,\u001b[0m \u001b[0mself\u001b[0m\u001b[0;34m.\u001b[0m\u001b[0m_train_batch_size\u001b[0m\u001b[0;34m,\u001b[0m \u001b[0margs\u001b[0m\u001b[0;34m.\u001b[0m\u001b[0mauto_find_batch_size\u001b[0m\u001b[0;34m\u001b[0m\u001b[0;34m\u001b[0m\u001b[0m\n\u001b[1;32m   1661\u001b[0m         )\n\u001b[0;32m-> 1662\u001b[0;31m         return inner_training_loop(\n\u001b[0m\u001b[1;32m   1663\u001b[0m             \u001b[0margs\u001b[0m\u001b[0;34m=\u001b[0m\u001b[0margs\u001b[0m\u001b[0;34m,\u001b[0m\u001b[0;34m\u001b[0m\u001b[0;34m\u001b[0m\u001b[0m\n\u001b[1;32m   1664\u001b[0m             \u001b[0mresume_from_checkpoint\u001b[0m\u001b[0;34m=\u001b[0m\u001b[0mresume_from_checkpoint\u001b[0m\u001b[0;34m,\u001b[0m\u001b[0;34m\u001b[0m\u001b[0;34m\u001b[0m\u001b[0m\n",
            "\u001b[0;32m/usr/local/lib/python3.10/dist-packages/transformers/trainer.py\u001b[0m in \u001b[0;36m_inner_training_loop\u001b[0;34m(self, batch_size, args, resume_from_checkpoint, trial, ignore_keys_for_eval)\u001b[0m\n\u001b[1;32m   1927\u001b[0m                         \u001b[0mtr_loss_step\u001b[0m \u001b[0;34m=\u001b[0m \u001b[0mself\u001b[0m\u001b[0;34m.\u001b[0m\u001b[0mtraining_step\u001b[0m\u001b[0;34m(\u001b[0m\u001b[0mmodel\u001b[0m\u001b[0;34m,\u001b[0m \u001b[0minputs\u001b[0m\u001b[0;34m)\u001b[0m\u001b[0;34m\u001b[0m\u001b[0;34m\u001b[0m\u001b[0m\n\u001b[1;32m   1928\u001b[0m                 \u001b[0;32melse\u001b[0m\u001b[0;34m:\u001b[0m\u001b[0;34m\u001b[0m\u001b[0;34m\u001b[0m\u001b[0m\n\u001b[0;32m-> 1929\u001b[0;31m                     \u001b[0mtr_loss_step\u001b[0m \u001b[0;34m=\u001b[0m \u001b[0mself\u001b[0m\u001b[0;34m.\u001b[0m\u001b[0mtraining_step\u001b[0m\u001b[0;34m(\u001b[0m\u001b[0mmodel\u001b[0m\u001b[0;34m,\u001b[0m \u001b[0minputs\u001b[0m\u001b[0;34m)\u001b[0m\u001b[0;34m\u001b[0m\u001b[0;34m\u001b[0m\u001b[0m\n\u001b[0m\u001b[1;32m   1930\u001b[0m \u001b[0;34m\u001b[0m\u001b[0m\n\u001b[1;32m   1931\u001b[0m                 if (\n",
            "\u001b[0;32m/usr/local/lib/python3.10/dist-packages/transformers/trainer.py\u001b[0m in \u001b[0;36mtraining_step\u001b[0;34m(self, model, inputs)\u001b[0m\n\u001b[1;32m   2715\u001b[0m             \u001b[0mloss\u001b[0m \u001b[0;34m=\u001b[0m \u001b[0mself\u001b[0m\u001b[0;34m.\u001b[0m\u001b[0mdeepspeed\u001b[0m\u001b[0;34m.\u001b[0m\u001b[0mbackward\u001b[0m\u001b[0;34m(\u001b[0m\u001b[0mloss\u001b[0m\u001b[0;34m)\u001b[0m\u001b[0;34m\u001b[0m\u001b[0;34m\u001b[0m\u001b[0m\n\u001b[1;32m   2716\u001b[0m         \u001b[0;32melse\u001b[0m\u001b[0;34m:\u001b[0m\u001b[0;34m\u001b[0m\u001b[0;34m\u001b[0m\u001b[0m\n\u001b[0;32m-> 2717\u001b[0;31m             \u001b[0mloss\u001b[0m\u001b[0;34m.\u001b[0m\u001b[0mbackward\u001b[0m\u001b[0;34m(\u001b[0m\u001b[0;34m)\u001b[0m\u001b[0;34m\u001b[0m\u001b[0;34m\u001b[0m\u001b[0m\n\u001b[0m\u001b[1;32m   2718\u001b[0m \u001b[0;34m\u001b[0m\u001b[0m\n\u001b[1;32m   2719\u001b[0m         \u001b[0;32mreturn\u001b[0m \u001b[0mloss\u001b[0m\u001b[0;34m.\u001b[0m\u001b[0mdetach\u001b[0m\u001b[0;34m(\u001b[0m\u001b[0;34m)\u001b[0m\u001b[0;34m\u001b[0m\u001b[0;34m\u001b[0m\u001b[0m\n",
            "\u001b[0;32m/usr/local/lib/python3.10/dist-packages/torch/_tensor.py\u001b[0m in \u001b[0;36mbackward\u001b[0;34m(self, gradient, retain_graph, create_graph, inputs)\u001b[0m\n\u001b[1;32m    485\u001b[0m                 \u001b[0minputs\u001b[0m\u001b[0;34m=\u001b[0m\u001b[0minputs\u001b[0m\u001b[0;34m,\u001b[0m\u001b[0;34m\u001b[0m\u001b[0;34m\u001b[0m\u001b[0m\n\u001b[1;32m    486\u001b[0m             )\n\u001b[0;32m--> 487\u001b[0;31m         torch.autograd.backward(\n\u001b[0m\u001b[1;32m    488\u001b[0m             \u001b[0mself\u001b[0m\u001b[0;34m,\u001b[0m \u001b[0mgradient\u001b[0m\u001b[0;34m,\u001b[0m \u001b[0mretain_graph\u001b[0m\u001b[0;34m,\u001b[0m \u001b[0mcreate_graph\u001b[0m\u001b[0;34m,\u001b[0m \u001b[0minputs\u001b[0m\u001b[0;34m=\u001b[0m\u001b[0minputs\u001b[0m\u001b[0;34m\u001b[0m\u001b[0;34m\u001b[0m\u001b[0m\n\u001b[1;32m    489\u001b[0m         )\n",
            "\u001b[0;32m/usr/local/lib/python3.10/dist-packages/torch/autograd/__init__.py\u001b[0m in \u001b[0;36mbackward\u001b[0;34m(tensors, grad_tensors, retain_graph, create_graph, grad_variables, inputs)\u001b[0m\n\u001b[1;32m    198\u001b[0m     \u001b[0;31m# some Python versions print out the first line of a multi-line function\u001b[0m\u001b[0;34m\u001b[0m\u001b[0;34m\u001b[0m\u001b[0m\n\u001b[1;32m    199\u001b[0m     \u001b[0;31m# calls in the traceback and some print out the last line\u001b[0m\u001b[0;34m\u001b[0m\u001b[0;34m\u001b[0m\u001b[0m\n\u001b[0;32m--> 200\u001b[0;31m     Variable._execution_engine.run_backward(  # Calls into the C++ engine to run the backward pass\n\u001b[0m\u001b[1;32m    201\u001b[0m         \u001b[0mtensors\u001b[0m\u001b[0;34m,\u001b[0m \u001b[0mgrad_tensors_\u001b[0m\u001b[0;34m,\u001b[0m \u001b[0mretain_graph\u001b[0m\u001b[0;34m,\u001b[0m \u001b[0mcreate_graph\u001b[0m\u001b[0;34m,\u001b[0m \u001b[0minputs\u001b[0m\u001b[0;34m,\u001b[0m\u001b[0;34m\u001b[0m\u001b[0;34m\u001b[0m\u001b[0m\n\u001b[1;32m    202\u001b[0m         allow_unreachable=True, accumulate_grad=True)  # Calls into the C++ engine to run the backward pass\n",
            "\u001b[0;31mKeyboardInterrupt\u001b[0m: "
          ]
        }
      ]
    },
    {
      "cell_type": "code",
      "source": [
        "# test\n",
        "print(\"Testing one\")\n",
        "print(trainer.evaluate())\n",
        "# or\n",
        "trainer.predict(test_dataset)"
      ],
      "metadata": {
        "id": "HtQP032rEexh"
      },
      "execution_count": null,
      "outputs": []
    },
    {
      "cell_type": "code",
      "source": [
        "# perform t-test on both results to see if the difference is significant\n",
        "scipy.stats.ttest_ind(test, test_LUKE, equal_var=True)"
      ],
      "metadata": {
        "id": "t-DeomE9QtjR"
      },
      "execution_count": null,
      "outputs": []
    }
  ]
}